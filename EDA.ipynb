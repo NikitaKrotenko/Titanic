{
 "cells": [
  {
   "cell_type": "markdown",
   "metadata": {},
   "source": [
    "# 1 -----------Preparation------------------------"
   ]
  },
  {
   "cell_type": "markdown",
   "metadata": {},
   "source": [
    "## 1.1 Load libraries"
   ]
  },
  {
   "cell_type": "code",
   "execution_count": 1,
   "metadata": {},
   "outputs": [],
   "source": [
    "import pandas as pd\n",
    "import numpy as np\n",
    "import matplotlib.pyplot as plt\n",
    "%matplotlib inline\n",
    "import seaborn as sns"
   ]
  },
  {
   "cell_type": "markdown",
   "metadata": {},
   "source": [
    "## 1.2 Custom functions"
   ]
  },
  {
   "cell_type": "code",
   "execution_count": 2,
   "metadata": {},
   "outputs": [],
   "source": [
    "def numerical_dqr(df):\n",
    "  \n",
    "  #select numerical columns\n",
    "  numerical = df.select_dtypes(include = ['int', 'Int64', 'float']).columns.tolist()\n",
    "  \n",
    "  #data type\n",
    "  data_types = pd.DataFrame(\n",
    "    df[numerical].dtypes,\n",
    "    columns=['Data Type'])\n",
    "  \n",
    "  #missing data\n",
    "  missing_data = pd.DataFrame(\n",
    "    df[numerical].isnull().sum(),\n",
    "    columns=['Missing Values'])\n",
    "  \n",
    "  #unique values\n",
    "  unique_values = pd.DataFrame(\n",
    "    columns=['Unique Values'])\n",
    "  for row in list(df[numerical].columns.values):\n",
    "    unique_values.loc[row] = [df[numerical][row].nunique()]\n",
    "    \n",
    "    #number of records\n",
    "  count_values = pd.DataFrame(\n",
    "    columns=['Records'])\n",
    "  for row in list(df[numerical].columns.values):\n",
    "      count_values.loc[row] = [df[numerical][row].count()]\n",
    "    \n",
    "    #minimum value\n",
    "  maximum_values = pd.DataFrame(\n",
    "    columns=['Maximum Value'])\n",
    "  for row in list(df[numerical].columns.values):\n",
    "      maximum_values.loc[row] = [df[numerical][row].max()]\n",
    "    \n",
    "  #maximum value\n",
    "  minimum_values = pd.DataFrame(\n",
    "    columns=['Minimum Value'])\n",
    "  for row in list(df[numerical].columns.values):\n",
    "      minimum_values.loc[row] = [df[numerical][row].min()]\n",
    "    \n",
    "  #mean value\n",
    "  mean_values = pd.DataFrame(\n",
    "    columns=['Mean Value'])\n",
    "  for row in list(df[numerical].columns.values):\n",
    "      mean_values.loc[row] = [df[numerical][row].mean()]\n",
    "    \n",
    "  #first quartile\n",
    "  quartile_1 = pd.DataFrame(\n",
    "    columns=['1st Quartile'])\n",
    "  for row in list(df[numerical].columns.values):\n",
    "      quartile_1.loc[row] = [df[numerical][row].quantile(0.25)]\n",
    "    \n",
    "  #median\n",
    "  median = pd.DataFrame(\n",
    "  columns=['Median'])\n",
    "  for row in list(df[numerical].columns.values):\n",
    "    median.loc[row] = [df[numerical][row].quantile(0.5)]\n",
    "    \n",
    "  #third quartile\n",
    "  quartile_3 = pd.DataFrame(\n",
    "    columns=['3rd Quartile'])\n",
    "  for row in list(df[numerical].columns.values):\n",
    "    quartile_3.loc[row] = [df[numerical][row].quantile(0.75)]\n",
    "    \n",
    "  #join columns \n",
    "  dq_report_num = data_types.join(count_values).join(missing_data).join(unique_values).join(minimum_values).join(maximum_values).join(mean_values).join(quartile_1).join(median).join(quartile_3)\n",
    "  \n",
    "  #percentage missing\n",
    "  dq_report_num['Missing %'] = (dq_report_num['Missing Values'] / len(df[numerical]) *100)\n",
    "  \n",
    "  # change order of columns\n",
    "  dq_report_num = dq_report_num[['Data Type', 'Records', 'Unique Values', 'Missing Values', 'Missing %', 'Mean Value', 'Minimum Value', '1st Quartile', 'Median', '3rd Quartile', 'Maximum Value', ]]\n",
    "\n",
    "  #round\n",
    "  dq_report_num[['Missing %', 'Mean Value', 'Minimum Value', '1st Quartile', 'Median', '3rd Quartile', 'Maximum Value']] =   dq_report_num[['Missing %', 'Mean Value', 'Minimum Value', '1st Quartile', 'Median', '3rd Quartile', 'Maximum Value']].round(1)\n",
    "  \n",
    "   \n",
    "  #rreturn report\n",
    "  return(dq_report_num)"
   ]
  },
  {
   "cell_type": "code",
   "execution_count": 3,
   "metadata": {},
   "outputs": [],
   "source": [
    "def categorical_dqr(df):\n",
    "\n",
    "  #select categorical columns\n",
    "  categorical = df.select_dtypes(include = 'object').columns.tolist()\n",
    "\n",
    "  #datatype\n",
    "  data_types = pd.DataFrame(\n",
    "    df[categorical].dtypes,\n",
    "    columns=['Data Type'])\n",
    "  \n",
    "  #count\n",
    "  count_values = pd.DataFrame(\n",
    "      columns=['Records'])\n",
    "  for row in list(raw[categorical].columns.values):\n",
    "    count_values.loc[row] = [raw[categorical][row].count()]\n",
    "  \n",
    "   #missing data\n",
    "  missing_data = pd.DataFrame(\n",
    "    df[categorical].isnull().sum(),\n",
    "    columns=['Missing Values'])\n",
    "  \n",
    "  #unique values\n",
    "  unique_values = pd.DataFrame(\n",
    "      columns=['Unique Values'])\n",
    "  for row in list(raw[categorical].columns.values):\n",
    "    unique_values.loc[row] = [raw[categorical][row].nunique()]\n",
    "\n",
    "  #mode\n",
    "  mode_values = pd.DataFrame(\n",
    "      columns=['Mode'])\n",
    "  for row in list(raw[categorical].columns.values): \n",
    "    mode_values.loc[row] = [raw[categorical][row].mode()[0]]\n",
    "    mode = mode_values.loc[row]\n",
    "  \n",
    "  #mode frequency\n",
    "  listModeFreq = []\n",
    "  for row in categorical:\n",
    "    mode = raw[row].mode().iat[0]\n",
    "    ModeFreq = raw[row].value_counts()[mode]\n",
    "    #print(x, mode, raw[x].value_counts()[mode])\n",
    "    listModeFreq .append(ModeFreq )\n",
    "  listModeFreq  = np.array(listModeFreq )\n",
    "    \n",
    "  \n",
    "   #create data quality report\n",
    "  dq_report_cat = data_types.join(missing_data).join(count_values).join(unique_values).join(mode_values)\n",
    "  dq_report_cat['Mode freq.'] = listModeFreq \n",
    "  dq_report_cat['Mode %'] = (dq_report_cat['Mode freq.'] / dq_report_cat['Records']*100) .astype('float')\n",
    "  dq_report_cat['Missing %'] = (dq_report_cat['Missing Values'] / len(raw[categorical]) *100)\n",
    "\n",
    "  #change order of columns\n",
    "  dq_report_cat = dq_report_cat[['Data Type', 'Records', 'Unique Values', 'Missing Values', 'Missing %', 'Mode', 'Mode freq.', 'Mode %']]\n",
    "  dq_report_cat[['Missing %', 'Mode %']] =   dq_report_cat[['Missing %'\t,  'Mode %']].round(1  )\n",
    "\n",
    "  #return report\n",
    "  return(dq_report_cat)"
   ]
  },
  {
   "cell_type": "code",
   "execution_count": 4,
   "metadata": {},
   "outputs": [],
   "source": [
    "def duplicate_checker(df):\n",
    "  duplicates = df.duplicated(keep = 'first').sum()\n",
    "  print(\"Number of duplicates: {}\".format(duplicates))\n",
    "  print(\"Total number of records: {}\".format(len(df)))\n",
    "  print(\"Percentage duplicated: {}\".format((duplicates/len(df))*100))"
   ]
  },
  {
   "cell_type": "markdown",
   "metadata": {},
   "source": [
    "## 1.3 Load Data"
   ]
  },
  {
   "cell_type": "code",
   "execution_count": 5,
   "metadata": {},
   "outputs": [],
   "source": [
    "#import data\n",
    "train = pd.read_csv('train.csv', index_col= 'PassengerId')\n",
    "test = pd.read_csv('test.csv', index_col= 'PassengerId')"
   ]
  },
  {
   "cell_type": "code",
   "execution_count": 6,
   "metadata": {},
   "outputs": [
    {
     "data": {
      "text/html": [
       "<div>\n",
       "<style scoped>\n",
       "    .dataframe tbody tr th:only-of-type {\n",
       "        vertical-align: middle;\n",
       "    }\n",
       "\n",
       "    .dataframe tbody tr th {\n",
       "        vertical-align: top;\n",
       "    }\n",
       "\n",
       "    .dataframe thead th {\n",
       "        text-align: right;\n",
       "    }\n",
       "</style>\n",
       "<table border=\"1\" class=\"dataframe\">\n",
       "  <thead>\n",
       "    <tr style=\"text-align: right;\">\n",
       "      <th></th>\n",
       "      <th>Survived</th>\n",
       "      <th>Pclass</th>\n",
       "      <th>Name</th>\n",
       "      <th>Sex</th>\n",
       "      <th>Age</th>\n",
       "      <th>SibSp</th>\n",
       "      <th>Parch</th>\n",
       "      <th>Ticket</th>\n",
       "      <th>Fare</th>\n",
       "      <th>Cabin</th>\n",
       "      <th>Embarked</th>\n",
       "    </tr>\n",
       "    <tr>\n",
       "      <th>PassengerId</th>\n",
       "      <th></th>\n",
       "      <th></th>\n",
       "      <th></th>\n",
       "      <th></th>\n",
       "      <th></th>\n",
       "      <th></th>\n",
       "      <th></th>\n",
       "      <th></th>\n",
       "      <th></th>\n",
       "      <th></th>\n",
       "      <th></th>\n",
       "    </tr>\n",
       "  </thead>\n",
       "  <tbody>\n",
       "    <tr>\n",
       "      <th>1</th>\n",
       "      <td>0.0</td>\n",
       "      <td>3</td>\n",
       "      <td>Braund, Mr. Owen Harris</td>\n",
       "      <td>male</td>\n",
       "      <td>22.0</td>\n",
       "      <td>1</td>\n",
       "      <td>0</td>\n",
       "      <td>A/5 21171</td>\n",
       "      <td>7.2500</td>\n",
       "      <td>NaN</td>\n",
       "      <td>S</td>\n",
       "    </tr>\n",
       "    <tr>\n",
       "      <th>2</th>\n",
       "      <td>1.0</td>\n",
       "      <td>1</td>\n",
       "      <td>Cumings, Mrs. John Bradley (Florence Briggs Th...</td>\n",
       "      <td>female</td>\n",
       "      <td>38.0</td>\n",
       "      <td>1</td>\n",
       "      <td>0</td>\n",
       "      <td>PC 17599</td>\n",
       "      <td>71.2833</td>\n",
       "      <td>C85</td>\n",
       "      <td>C</td>\n",
       "    </tr>\n",
       "    <tr>\n",
       "      <th>3</th>\n",
       "      <td>1.0</td>\n",
       "      <td>3</td>\n",
       "      <td>Heikkinen, Miss. Laina</td>\n",
       "      <td>female</td>\n",
       "      <td>26.0</td>\n",
       "      <td>0</td>\n",
       "      <td>0</td>\n",
       "      <td>STON/O2. 3101282</td>\n",
       "      <td>7.9250</td>\n",
       "      <td>NaN</td>\n",
       "      <td>S</td>\n",
       "    </tr>\n",
       "    <tr>\n",
       "      <th>4</th>\n",
       "      <td>1.0</td>\n",
       "      <td>1</td>\n",
       "      <td>Futrelle, Mrs. Jacques Heath (Lily May Peel)</td>\n",
       "      <td>female</td>\n",
       "      <td>35.0</td>\n",
       "      <td>1</td>\n",
       "      <td>0</td>\n",
       "      <td>113803</td>\n",
       "      <td>53.1000</td>\n",
       "      <td>C123</td>\n",
       "      <td>S</td>\n",
       "    </tr>\n",
       "    <tr>\n",
       "      <th>5</th>\n",
       "      <td>0.0</td>\n",
       "      <td>3</td>\n",
       "      <td>Allen, Mr. William Henry</td>\n",
       "      <td>male</td>\n",
       "      <td>35.0</td>\n",
       "      <td>0</td>\n",
       "      <td>0</td>\n",
       "      <td>373450</td>\n",
       "      <td>8.0500</td>\n",
       "      <td>NaN</td>\n",
       "      <td>S</td>\n",
       "    </tr>\n",
       "  </tbody>\n",
       "</table>\n",
       "</div>"
      ],
      "text/plain": [
       "             Survived  Pclass  \\\n",
       "PassengerId                     \n",
       "1                 0.0       3   \n",
       "2                 1.0       1   \n",
       "3                 1.0       3   \n",
       "4                 1.0       1   \n",
       "5                 0.0       3   \n",
       "\n",
       "                                                          Name     Sex   Age  \\\n",
       "PassengerId                                                                    \n",
       "1                                      Braund, Mr. Owen Harris    male  22.0   \n",
       "2            Cumings, Mrs. John Bradley (Florence Briggs Th...  female  38.0   \n",
       "3                                       Heikkinen, Miss. Laina  female  26.0   \n",
       "4                 Futrelle, Mrs. Jacques Heath (Lily May Peel)  female  35.0   \n",
       "5                                     Allen, Mr. William Henry    male  35.0   \n",
       "\n",
       "             SibSp  Parch            Ticket     Fare Cabin Embarked  \n",
       "PassengerId                                                          \n",
       "1                1      0         A/5 21171   7.2500   NaN        S  \n",
       "2                1      0          PC 17599  71.2833   C85        C  \n",
       "3                0      0  STON/O2. 3101282   7.9250   NaN        S  \n",
       "4                1      0            113803  53.1000  C123        S  \n",
       "5                0      0            373450   8.0500   NaN        S  "
      ]
     },
     "execution_count": 6,
     "metadata": {},
     "output_type": "execute_result"
    }
   ],
   "source": [
    "#concatenate train and test for data visualization\n",
    "raw = pd.concat([train, test])\n",
    "raw.head()"
   ]
  },
  {
   "cell_type": "markdown",
   "metadata": {},
   "source": [
    "# 2 -----------EDA + New features---------------"
   ]
  },
  {
   "cell_type": "code",
   "execution_count": 7,
   "metadata": {},
   "outputs": [],
   "source": [
    "EDA= raw.copy()"
   ]
  },
  {
   "cell_type": "markdown",
   "metadata": {},
   "source": [
    "## 2.1 General overview"
   ]
  },
  {
   "cell_type": "code",
   "execution_count": 8,
   "metadata": {},
   "outputs": [],
   "source": [
    "EDA['Pclass']= EDA['Pclass'].astype('object')\n",
    "EDA['Age']= np.rint(EDA['Age'])"
   ]
  },
  {
   "cell_type": "code",
   "execution_count": 9,
   "metadata": {},
   "outputs": [
    {
     "data": {
      "text/html": [
       "<div>\n",
       "<style scoped>\n",
       "    .dataframe tbody tr th:only-of-type {\n",
       "        vertical-align: middle;\n",
       "    }\n",
       "\n",
       "    .dataframe tbody tr th {\n",
       "        vertical-align: top;\n",
       "    }\n",
       "\n",
       "    .dataframe thead th {\n",
       "        text-align: right;\n",
       "    }\n",
       "</style>\n",
       "<table border=\"1\" class=\"dataframe\">\n",
       "  <thead>\n",
       "    <tr style=\"text-align: right;\">\n",
       "      <th></th>\n",
       "      <th>Data Type</th>\n",
       "      <th>Records</th>\n",
       "      <th>Unique Values</th>\n",
       "      <th>Missing Values</th>\n",
       "      <th>Missing %</th>\n",
       "      <th>Mean Value</th>\n",
       "      <th>Minimum Value</th>\n",
       "      <th>1st Quartile</th>\n",
       "      <th>Median</th>\n",
       "      <th>3rd Quartile</th>\n",
       "      <th>Maximum Value</th>\n",
       "    </tr>\n",
       "  </thead>\n",
       "  <tbody>\n",
       "    <tr>\n",
       "      <th>Survived</th>\n",
       "      <td>float64</td>\n",
       "      <td>891</td>\n",
       "      <td>2</td>\n",
       "      <td>418</td>\n",
       "      <td>31.9</td>\n",
       "      <td>0.4</td>\n",
       "      <td>0.0</td>\n",
       "      <td>0.0</td>\n",
       "      <td>0.0</td>\n",
       "      <td>1.0</td>\n",
       "      <td>1.0</td>\n",
       "    </tr>\n",
       "    <tr>\n",
       "      <th>Age</th>\n",
       "      <td>float64</td>\n",
       "      <td>1046</td>\n",
       "      <td>73</td>\n",
       "      <td>263</td>\n",
       "      <td>20.1</td>\n",
       "      <td>29.9</td>\n",
       "      <td>0.0</td>\n",
       "      <td>21.0</td>\n",
       "      <td>28.0</td>\n",
       "      <td>39.0</td>\n",
       "      <td>80.0</td>\n",
       "    </tr>\n",
       "    <tr>\n",
       "      <th>SibSp</th>\n",
       "      <td>int64</td>\n",
       "      <td>1309</td>\n",
       "      <td>7</td>\n",
       "      <td>0</td>\n",
       "      <td>0.0</td>\n",
       "      <td>0.5</td>\n",
       "      <td>0.0</td>\n",
       "      <td>0.0</td>\n",
       "      <td>0.0</td>\n",
       "      <td>1.0</td>\n",
       "      <td>8.0</td>\n",
       "    </tr>\n",
       "    <tr>\n",
       "      <th>Parch</th>\n",
       "      <td>int64</td>\n",
       "      <td>1309</td>\n",
       "      <td>8</td>\n",
       "      <td>0</td>\n",
       "      <td>0.0</td>\n",
       "      <td>0.4</td>\n",
       "      <td>0.0</td>\n",
       "      <td>0.0</td>\n",
       "      <td>0.0</td>\n",
       "      <td>0.0</td>\n",
       "      <td>9.0</td>\n",
       "    </tr>\n",
       "    <tr>\n",
       "      <th>Fare</th>\n",
       "      <td>float64</td>\n",
       "      <td>1308</td>\n",
       "      <td>281</td>\n",
       "      <td>1</td>\n",
       "      <td>0.1</td>\n",
       "      <td>33.3</td>\n",
       "      <td>0.0</td>\n",
       "      <td>7.9</td>\n",
       "      <td>14.5</td>\n",
       "      <td>31.3</td>\n",
       "      <td>512.3</td>\n",
       "    </tr>\n",
       "  </tbody>\n",
       "</table>\n",
       "</div>"
      ],
      "text/plain": [
       "         Data Type Records Unique Values  Missing Values  Missing %  \\\n",
       "Survived   float64     891             2             418       31.9   \n",
       "Age        float64    1046            73             263       20.1   \n",
       "SibSp        int64    1309             7               0        0.0   \n",
       "Parch        int64    1309             8               0        0.0   \n",
       "Fare       float64    1308           281               1        0.1   \n",
       "\n",
       "          Mean Value  Minimum Value  1st Quartile  Median  3rd Quartile  \\\n",
       "Survived         0.4            0.0           0.0     0.0           1.0   \n",
       "Age             29.9            0.0          21.0    28.0          39.0   \n",
       "SibSp            0.5            0.0           0.0     0.0           1.0   \n",
       "Parch            0.4            0.0           0.0     0.0           0.0   \n",
       "Fare            33.3            0.0           7.9    14.5          31.3   \n",
       "\n",
       "          Maximum Value  \n",
       "Survived            1.0  \n",
       "Age                80.0  \n",
       "SibSp               8.0  \n",
       "Parch               9.0  \n",
       "Fare              512.3  "
      ]
     },
     "execution_count": 9,
     "metadata": {},
     "output_type": "execute_result"
    }
   ],
   "source": [
    "numerical_dqr(EDA)"
   ]
  },
  {
   "cell_type": "code",
   "execution_count": 10,
   "metadata": {},
   "outputs": [
    {
     "data": {
      "text/html": [
       "<div>\n",
       "<style scoped>\n",
       "    .dataframe tbody tr th:only-of-type {\n",
       "        vertical-align: middle;\n",
       "    }\n",
       "\n",
       "    .dataframe tbody tr th {\n",
       "        vertical-align: top;\n",
       "    }\n",
       "\n",
       "    .dataframe thead th {\n",
       "        text-align: right;\n",
       "    }\n",
       "</style>\n",
       "<table border=\"1\" class=\"dataframe\">\n",
       "  <thead>\n",
       "    <tr style=\"text-align: right;\">\n",
       "      <th></th>\n",
       "      <th>Data Type</th>\n",
       "      <th>Records</th>\n",
       "      <th>Unique Values</th>\n",
       "      <th>Missing Values</th>\n",
       "      <th>Missing %</th>\n",
       "      <th>Mode</th>\n",
       "      <th>Mode freq.</th>\n",
       "      <th>Mode %</th>\n",
       "    </tr>\n",
       "  </thead>\n",
       "  <tbody>\n",
       "    <tr>\n",
       "      <th>Pclass</th>\n",
       "      <td>object</td>\n",
       "      <td>1309</td>\n",
       "      <td>3</td>\n",
       "      <td>0</td>\n",
       "      <td>0.0</td>\n",
       "      <td>3</td>\n",
       "      <td>709</td>\n",
       "      <td>54.2</td>\n",
       "    </tr>\n",
       "    <tr>\n",
       "      <th>Name</th>\n",
       "      <td>object</td>\n",
       "      <td>1309</td>\n",
       "      <td>1307</td>\n",
       "      <td>0</td>\n",
       "      <td>0.0</td>\n",
       "      <td>Connolly, Miss. Kate</td>\n",
       "      <td>2</td>\n",
       "      <td>0.2</td>\n",
       "    </tr>\n",
       "    <tr>\n",
       "      <th>Sex</th>\n",
       "      <td>object</td>\n",
       "      <td>1309</td>\n",
       "      <td>2</td>\n",
       "      <td>0</td>\n",
       "      <td>0.0</td>\n",
       "      <td>male</td>\n",
       "      <td>843</td>\n",
       "      <td>64.4</td>\n",
       "    </tr>\n",
       "    <tr>\n",
       "      <th>Ticket</th>\n",
       "      <td>object</td>\n",
       "      <td>1309</td>\n",
       "      <td>929</td>\n",
       "      <td>0</td>\n",
       "      <td>0.0</td>\n",
       "      <td>CA. 2343</td>\n",
       "      <td>11</td>\n",
       "      <td>0.8</td>\n",
       "    </tr>\n",
       "    <tr>\n",
       "      <th>Cabin</th>\n",
       "      <td>object</td>\n",
       "      <td>295</td>\n",
       "      <td>186</td>\n",
       "      <td>1014</td>\n",
       "      <td>77.5</td>\n",
       "      <td>C23 C25 C27</td>\n",
       "      <td>6</td>\n",
       "      <td>2.0</td>\n",
       "    </tr>\n",
       "    <tr>\n",
       "      <th>Embarked</th>\n",
       "      <td>object</td>\n",
       "      <td>1307</td>\n",
       "      <td>3</td>\n",
       "      <td>2</td>\n",
       "      <td>0.2</td>\n",
       "      <td>S</td>\n",
       "      <td>914</td>\n",
       "      <td>69.9</td>\n",
       "    </tr>\n",
       "  </tbody>\n",
       "</table>\n",
       "</div>"
      ],
      "text/plain": [
       "         Data Type Records Unique Values  Missing Values  Missing %  \\\n",
       "Pclass      object    1309             3               0        0.0   \n",
       "Name        object    1309          1307               0        0.0   \n",
       "Sex         object    1309             2               0        0.0   \n",
       "Ticket      object    1309           929               0        0.0   \n",
       "Cabin       object     295           186            1014       77.5   \n",
       "Embarked    object    1307             3               2        0.2   \n",
       "\n",
       "                          Mode  Mode freq.  Mode %  \n",
       "Pclass                       3         709    54.2  \n",
       "Name      Connolly, Miss. Kate           2     0.2  \n",
       "Sex                       male         843    64.4  \n",
       "Ticket                CA. 2343          11     0.8  \n",
       "Cabin              C23 C25 C27           6     2.0  \n",
       "Embarked                     S         914    69.9  "
      ]
     },
     "execution_count": 10,
     "metadata": {},
     "output_type": "execute_result"
    }
   ],
   "source": [
    "categorical_dqr(EDA)"
   ]
  },
  {
   "cell_type": "code",
   "execution_count": 11,
   "metadata": {},
   "outputs": [
    {
     "name": "stdout",
     "output_type": "stream",
     "text": [
      "Number of duplicates: 0\n",
      "Total number of records: 1309\n",
      "Percentage duplicated: 0.0\n"
     ]
    }
   ],
   "source": [
    "duplicate_checker(EDA)"
   ]
  },
  {
   "cell_type": "markdown",
   "metadata": {},
   "source": [
    "## 2.2 Sex+ Embarked"
   ]
  },
  {
   "cell_type": "code",
   "execution_count": 12,
   "metadata": {},
   "outputs": [
    {
     "data": {
      "text/plain": [
       "<seaborn.axisgrid.FacetGrid at 0x133feff8640>"
      ]
     },
     "execution_count": 12,
     "metadata": {},
     "output_type": "execute_result"
    },
    {
     "data": {
      "image/png": "[encoded data removed]",
      "text/plain": [
       "<Figure size 1080x360 with 3 Axes>"
      ]
     },
     "metadata": {
      "needs_background": "light"
     },
     "output_type": "display_data"
    },
    {
     "data": {
      "image/png": "[encoded data removed]",
      "text/plain": [
       "<Figure size 430.5x360 with 1 Axes>"
      ]
     },
     "metadata": {
      "needs_background": "light"
     },
     "output_type": "display_data"
    }
   ],
   "source": [
    "fig, axs = plt.subplots(1,3, figsize= (15,5))\n",
    "sns.countplot(x=\"Sex\", hue= 'Survived', data= EDA, ax= axs[0])\n",
    "\n",
    "sns.countplot(x=\"Embarked\", hue= 'Sex', data= EDA, ax= axs[1])\n",
    "\n",
    "sns.countplot(x=\"Embarked\", hue= 'Survived', data= EDA, ax= axs[2])\n",
    "\n",
    "sns.catplot(x=\"Embarked\", y=\"Survived\", hue=\"Sex\", kind=\"bar\", data=EDA)"
   ]
  },
  {
   "cell_type": "markdown",
   "metadata": {},
   "source": [
    "## 2.3 Pclass"
   ]
  },
  {
   "cell_type": "code",
   "execution_count": 13,
   "metadata": {},
   "outputs": [
    {
     "data": {
      "text/plain": [
       "<seaborn.axisgrid.FacetGrid at 0x133ff1aa280>"
      ]
     },
     "execution_count": 13,
     "metadata": {},
     "output_type": "execute_result"
    },
    {
     "data": {
      "image/png": "[encoded data removed]",
      "text/plain": [
       "<Figure size 1080x360 with 3 Axes>"
      ]
     },
     "metadata": {
      "needs_background": "light"
     },
     "output_type": "display_data"
    },
    {
     "data": {
      "image/png": "[encoded data removed]",
      "text/plain": [
       "<Figure size 430.5x360 with 1 Axes>"
      ]
     },
     "metadata": {
      "needs_background": "light"
     },
     "output_type": "display_data"
    }
   ],
   "source": [
    "fig, axs = plt.subplots(1,3, figsize= (15,5))\n",
    "\n",
    "sns.countplot(x=\"Embarked\", data= EDA, ax= axs[0])\n",
    "sns.countplot(x=\"Embarked\", hue= 'Pclass', data= EDA, ax= axs[1])\n",
    "sns.barplot(x='Pclass', y='Survived', data=EDA, ax= axs[2])\n",
    "sns.catplot(x=\"Pclass\", y=\"Survived\", hue=\"Sex\", kind=\"bar\", data=EDA)"
   ]
  },
  {
   "cell_type": "markdown",
   "metadata": {},
   "source": [
    "## 2.4 Age"
   ]
  },
  {
   "cell_type": "code",
   "execution_count": 14,
   "metadata": {},
   "outputs": [
    {
     "data": {
      "text/plain": [
       "<AxesSubplot:xlabel='Age', ylabel='Count'>"
      ]
     },
     "execution_count": 14,
     "metadata": {},
     "output_type": "execute_result"
    },
    {
     "data": {
      "image/png": "[encoded data removed]",
      "text/plain": [
       "<Figure size 432x288 with 1 Axes>"
      ]
     },
     "metadata": {
      "needs_background": "light"
     },
     "output_type": "display_data"
    }
   ],
   "source": [
    "sns.histplot(data=EDA, x=\"Age\", hue=\"Survived\", multiple=\"stack\")"
   ]
  },
  {
   "cell_type": "code",
   "execution_count": 15,
   "metadata": {},
   "outputs": [
    {
     "data": {
      "text/plain": [
       "<matplotlib.collections.PathCollection at 0x133ff5841c0>"
      ]
     },
     "execution_count": 15,
     "metadata": {},
     "output_type": "execute_result"
    },
    {
     "data": {
      "image/png": "[encoded data removed]",
      "text/plain": [
       "<Figure size 432x288 with 1 Axes>"
      ]
     },
     "metadata": {
      "needs_background": "light"
     },
     "output_type": "display_data"
    }
   ],
   "source": [
    "age_survival_probability= EDA.groupby('Age').sum()['Survived']/EDA.groupby('Age').count()['Survived']\n",
    "x= age_survival_probability.index\n",
    "y= age_survival_probability\n",
    "\n",
    "m, b = np.polyfit(x, y, 1)\n",
    "plt.plot(x, m*x + b)\n",
    "plt.scatter(x ,y)"
   ]
  },
  {
   "cell_type": "markdown",
   "metadata": {},
   "source": [
    "As we see, the younger you are, the higher chance to survive"
   ]
  },
  {
   "cell_type": "code",
   "execution_count": 16,
   "metadata": {},
   "outputs": [
    {
     "data": {
      "text/plain": [
       "<seaborn.axisgrid.FacetGrid at 0x133ff5ade80>"
      ]
     },
     "execution_count": 16,
     "metadata": {},
     "output_type": "execute_result"
    },
    {
     "data": {
      "image/png": "[encoded data removed]",
      "text/plain": [
       "<Figure size 360x360 with 1 Axes>"
      ]
     },
     "metadata": {
      "needs_background": "light"
     },
     "output_type": "display_data"
    }
   ],
   "source": [
    "sns.catplot(x=\"Pclass\", y=\"Age\", kind=\"box\", data=EDA)"
   ]
  },
  {
   "cell_type": "code",
   "execution_count": 17,
   "metadata": {},
   "outputs": [
    {
     "data": {
      "text/plain": [
       "<seaborn.axisgrid.FacetGrid at 0x133ff456be0>"
      ]
     },
     "execution_count": 17,
     "metadata": {},
     "output_type": "execute_result"
    },
    {
     "data": {
      "image/png": "[encoded data removed]",
      "text/plain": [
       "<Figure size 360x360 with 1 Axes>"
      ]
     },
     "metadata": {
      "needs_background": "light"
     },
     "output_type": "display_data"
    },
    {
     "data": {
      "image/png": "[encoded data removed]",
      "text/plain": [
       "<Figure size 360x360 with 1 Axes>"
      ]
     },
     "metadata": {
      "needs_background": "light"
     },
     "output_type": "display_data"
    },
    {
     "data": {
      "image/png": "[encoded data removed]",
      "text/plain": [
       "<Figure size 360x360 with 1 Axes>"
      ]
     },
     "metadata": {
      "needs_background": "light"
     },
     "output_type": "display_data"
    }
   ],
   "source": [
    "temp= train[train['Pclass']== 1]\n",
    "sns.displot(temp['Age'], kde= True)\n",
    "temp= train[train['Pclass']== 2]\n",
    "sns.displot(temp['Age'], kde= True)\n",
    "temp= train[train['Pclass']== 3]\n",
    "sns.displot(temp['Age'], kde= True)"
   ]
  },
  {
   "cell_type": "markdown",
   "metadata": {},
   "source": [
    "## 2.5 Cabin"
   ]
  },
  {
   "cell_type": "code",
   "execution_count": 18,
   "metadata": {},
   "outputs": [
    {
     "data": {
      "text/plain": [
       "C23 C25 C27        6\n",
       "G6                 5\n",
       "B57 B59 B63 B66    5\n",
       "C22 C26            4\n",
       "F33                4\n",
       "Name: Cabin, dtype: int64"
      ]
     },
     "execution_count": 18,
     "metadata": {},
     "output_type": "execute_result"
    }
   ],
   "source": [
    "EDA['Cabin'].value_counts().head()"
   ]
  },
  {
   "cell_type": "code",
   "execution_count": 19,
   "metadata": {},
   "outputs": [
    {
     "data": {
      "text/plain": [
       "0    1014\n",
       "C      94\n",
       "B      65\n",
       "D      46\n",
       "E      41\n",
       "A      22\n",
       "F      21\n",
       "G       5\n",
       "T       1\n",
       "Name: cabin_class, dtype: int64"
      ]
     },
     "execution_count": 19,
     "metadata": {},
     "output_type": "execute_result"
    }
   ],
   "source": [
    "EDA['Cabin'].fillna(0, inplace= True)\n",
    "EDA['cabin_class']= EDA['Cabin'].astype(str).str[0]\n",
    "EDA['cabin_class'].value_counts()"
   ]
  },
  {
   "cell_type": "code",
   "execution_count": 20,
   "metadata": {},
   "outputs": [],
   "source": [
    "EDA['cabin_class'].replace({'G': '0','T': '0'}, inplace= True)"
   ]
  },
  {
   "cell_type": "code",
   "execution_count": 21,
   "metadata": {},
   "outputs": [
    {
     "data": {
      "text/plain": [
       "<seaborn.axisgrid.FacetGrid at 0x133ff4c7c10>"
      ]
     },
     "execution_count": 21,
     "metadata": {},
     "output_type": "execute_result"
    },
    {
     "data": {
      "image/png": "[encoded data removed]",
      "text/plain": [
       "<Figure size 430.5x360 with 1 Axes>"
      ]
     },
     "metadata": {
      "needs_background": "light"
     },
     "output_type": "display_data"
    }
   ],
   "source": [
    "sns.catplot(x=\"cabin_class\", y=\"Survived\", hue=\"Sex\", kind=\"bar\", data=EDA)"
   ]
  },
  {
   "cell_type": "markdown",
   "metadata": {},
   "source": [
    "As we see, passengers with cabin type have higher chance to survive\n",
    "Besides, E type has the highest number of male survived"
   ]
  },
  {
   "cell_type": "code",
   "execution_count": 22,
   "metadata": {},
   "outputs": [
    {
     "data": {
      "text/plain": [
       "<seaborn.axisgrid.FacetGrid at 0x133ff867e80>"
      ]
     },
     "execution_count": 22,
     "metadata": {},
     "output_type": "execute_result"
    },
    {
     "data": {
      "image/png": "[encoded data removed]",
      "text/plain": [
       "<Figure size 430.5x360 with 1 Axes>"
      ]
     },
     "metadata": {
      "needs_background": "light"
     },
     "output_type": "display_data"
    }
   ],
   "source": [
    "sns.catplot(x=\"cabin_class\", y=\"Pclass\", hue=\"Sex\", kind=\"bar\", data=EDA)"
   ]
  },
  {
   "cell_type": "markdown",
   "metadata": {},
   "source": [
    "A, B, C cabins are first-class only, E and D are mostly first, while F and '0' are around 2-3"
   ]
  },
  {
   "cell_type": "code",
   "execution_count": 23,
   "metadata": {},
   "outputs": [
    {
     "data": {
      "text/plain": [
       "Text(0.5, 1.0, 'Without 0')"
      ]
     },
     "execution_count": 23,
     "metadata": {},
     "output_type": "execute_result"
    },
    {
     "data": {
      "image/png": "[encoded data removed]",
      "text/plain": [
       "<Figure size 720x360 with 2 Axes>"
      ]
     },
     "metadata": {
      "needs_background": "light"
     },
     "output_type": "display_data"
    }
   ],
   "source": [
    "fig, axs = plt.subplots(1,2, figsize= (10,5))\n",
    "sns.countplot(x=\"Embarked\", hue= 'cabin_class',ax= axs[0], data= EDA)\n",
    "axs[0].set_title('With 0')\n",
    "sns.countplot(x=\"Embarked\", hue= 'cabin_class', ax= axs[1], data= EDA[EDA['cabin_class']!= '0'])\n",
    "axs[1].set_title('Without 0')"
   ]
  },
  {
   "cell_type": "markdown",
   "metadata": {},
   "source": [
    "## 2.6 Ticket"
   ]
  },
  {
   "cell_type": "code",
   "execution_count": 24,
   "metadata": {},
   "outputs": [
    {
     "data": {
      "text/plain": [
       "CA. 2343        11\n",
       "CA 2144          8\n",
       "1601             8\n",
       "PC 17608         7\n",
       "S.O.C. 14879     7\n",
       "347077           7\n",
       "347082           7\n",
       "3101295          7\n",
       "19950            6\n",
       "113781           6\n",
       "347088           6\n",
       "382652           6\n",
       "4133             5\n",
       "W./C. 6608       5\n",
       "PC 17757         5\n",
       "Name: Ticket, dtype: int64"
      ]
     },
     "execution_count": 24,
     "metadata": {},
     "output_type": "execute_result"
    }
   ],
   "source": [
    "EDA['Ticket'].value_counts().head(15)"
   ]
  },
  {
   "cell_type": "code",
   "execution_count": 25,
   "metadata": {},
   "outputs": [
    {
     "data": {
      "text/plain": [
       "<AxesSubplot:xlabel='Ticket', ylabel='count'>"
      ]
     },
     "execution_count": 25,
     "metadata": {},
     "output_type": "execute_result"
    },
    {
     "data": {
      "image/png": "[encoded data removed]",
      "text/plain": [
       "<Figure size 432x288 with 1 Axes>"
      ]
     },
     "metadata": {
      "needs_background": "light"
     },
     "output_type": "display_data"
    }
   ],
   "source": [
    "temp= EDA['Ticket'].astype(str).str[0]\n",
    "sns.countplot(x= temp)"
   ]
  },
  {
   "cell_type": "code",
   "execution_count": 26,
   "metadata": {},
   "outputs": [],
   "source": [
    "temp.replace({'7':'other', 'W':'other', '4':'other', 'F':'other', 'L':'other', '9':'other','6':'other', '5':'other', '8':'other'}, inplace= True)\n",
    "\n",
    "EDA['Ticket_first_symbol']= temp"
   ]
  },
  {
   "cell_type": "code",
   "execution_count": 27,
   "metadata": {},
   "outputs": [
    {
     "data": {
      "text/plain": [
       "<AxesSubplot:xlabel='Ticket_first_symbol', ylabel='count'>"
      ]
     },
     "execution_count": 27,
     "metadata": {},
     "output_type": "execute_result"
    },
    {
     "data": {
      "image/png": "[encoded data removed]",
      "text/plain": [
       "<Figure size 432x288 with 1 Axes>"
      ]
     },
     "metadata": {
      "needs_background": "light"
     },
     "output_type": "display_data"
    }
   ],
   "source": [
    "sns.countplot(x= 'Ticket_first_symbol', hue= 'Sex', data= EDA)"
   ]
  },
  {
   "cell_type": "code",
   "execution_count": 28,
   "metadata": {},
   "outputs": [
    {
     "data": {
      "text/plain": [
       "<seaborn.axisgrid.FacetGrid at 0x133ff308850>"
      ]
     },
     "execution_count": 28,
     "metadata": {},
     "output_type": "execute_result"
    },
    {
     "data": {
      "image/png": "[encoded data removed]",
      "text/plain": [
       "<Figure size 430.5x360 with 1 Axes>"
      ]
     },
     "metadata": {
      "needs_background": "light"
     },
     "output_type": "display_data"
    }
   ],
   "source": [
    "sns.catplot(x= 'Ticket_first_symbol', y=\"Survived\", hue=\"Sex\", kind=\"bar\", data=EDA)"
   ]
  },
  {
   "cell_type": "code",
   "execution_count": 29,
   "metadata": {},
   "outputs": [
    {
     "data": {
      "text/plain": [
       "<AxesSubplot:xlabel='Ticket', ylabel='count'>"
      ]
     },
     "execution_count": 29,
     "metadata": {},
     "output_type": "execute_result"
    },
    {
     "data": {
      "image/png": "[encoded data removed]",
      "text/plain": [
       "<Figure size 432x288 with 1 Axes>"
      ]
     },
     "metadata": {
      "needs_background": "light"
     },
     "output_type": "display_data"
    }
   ],
   "source": [
    "temp= EDA['Ticket'].astype(str).str.len()\n",
    "sns.countplot(x= temp)"
   ]
  },
  {
   "cell_type": "code",
   "execution_count": 30,
   "metadata": {},
   "outputs": [],
   "source": [
    "EDA['Ticket_length']= temp.apply(lambda x: 'other' if (x > 8 or x == 7 or x == 3) else x)"
   ]
  },
  {
   "cell_type": "code",
   "execution_count": 31,
   "metadata": {},
   "outputs": [
    {
     "data": {
      "text/plain": [
       "<AxesSubplot:xlabel='Ticket_length', ylabel='count'>"
      ]
     },
     "execution_count": 31,
     "metadata": {},
     "output_type": "execute_result"
    },
    {
     "data": {
      "image/png": "[encoded data removed]",
      "text/plain": [
       "<Figure size 432x288 with 1 Axes>"
      ]
     },
     "metadata": {
      "needs_background": "light"
     },
     "output_type": "display_data"
    }
   ],
   "source": [
    "sns.countplot(x= 'Ticket_length', hue= 'Sex', data= EDA)"
   ]
  },
  {
   "cell_type": "code",
   "execution_count": 32,
   "metadata": {},
   "outputs": [
    {
     "data": {
      "text/plain": [
       "<seaborn.axisgrid.FacetGrid at 0x133ffbc1940>"
      ]
     },
     "execution_count": 32,
     "metadata": {},
     "output_type": "execute_result"
    },
    {
     "data": {
      "image/png": "[encoded data removed]",
      "text/plain": [
       "<Figure size 430.5x360 with 1 Axes>"
      ]
     },
     "metadata": {
      "needs_background": "light"
     },
     "output_type": "display_data"
    }
   ],
   "source": [
    "sns.catplot(x= 'Ticket_length', y=\"Survived\", hue=\"Sex\", kind=\"bar\", data=EDA)"
   ]
  },
  {
   "cell_type": "code",
   "execution_count": 33,
   "metadata": {},
   "outputs": [
    {
     "data": {
      "text/html": [
       "<div>\n",
       "<style scoped>\n",
       "    .dataframe tbody tr th:only-of-type {\n",
       "        vertical-align: middle;\n",
       "    }\n",
       "\n",
       "    .dataframe tbody tr th {\n",
       "        vertical-align: top;\n",
       "    }\n",
       "\n",
       "    .dataframe thead th {\n",
       "        text-align: right;\n",
       "    }\n",
       "</style>\n",
       "<table border=\"1\" class=\"dataframe\">\n",
       "  <thead>\n",
       "    <tr style=\"text-align: right;\">\n",
       "      <th></th>\n",
       "      <th>Survived</th>\n",
       "      <th>Pclass</th>\n",
       "      <th>Sex</th>\n",
       "      <th>Age</th>\n",
       "      <th>SibSp</th>\n",
       "      <th>Parch</th>\n",
       "      <th>Fare</th>\n",
       "      <th>Embarked</th>\n",
       "      <th>cabin_class</th>\n",
       "      <th>Ticket_first_symbol</th>\n",
       "      <th>Ticket_length</th>\n",
       "    </tr>\n",
       "    <tr>\n",
       "      <th>PassengerId</th>\n",
       "      <th></th>\n",
       "      <th></th>\n",
       "      <th></th>\n",
       "      <th></th>\n",
       "      <th></th>\n",
       "      <th></th>\n",
       "      <th></th>\n",
       "      <th></th>\n",
       "      <th></th>\n",
       "      <th></th>\n",
       "      <th></th>\n",
       "    </tr>\n",
       "  </thead>\n",
       "  <tbody>\n",
       "    <tr>\n",
       "      <th>1</th>\n",
       "      <td>0.0</td>\n",
       "      <td>3</td>\n",
       "      <td>male</td>\n",
       "      <td>22.0</td>\n",
       "      <td>1</td>\n",
       "      <td>0</td>\n",
       "      <td>7.2500</td>\n",
       "      <td>S</td>\n",
       "      <td>0</td>\n",
       "      <td>A</td>\n",
       "      <td>other</td>\n",
       "    </tr>\n",
       "    <tr>\n",
       "      <th>2</th>\n",
       "      <td>1.0</td>\n",
       "      <td>1</td>\n",
       "      <td>female</td>\n",
       "      <td>38.0</td>\n",
       "      <td>1</td>\n",
       "      <td>0</td>\n",
       "      <td>71.2833</td>\n",
       "      <td>C</td>\n",
       "      <td>C</td>\n",
       "      <td>P</td>\n",
       "      <td>8</td>\n",
       "    </tr>\n",
       "    <tr>\n",
       "      <th>3</th>\n",
       "      <td>1.0</td>\n",
       "      <td>3</td>\n",
       "      <td>female</td>\n",
       "      <td>26.0</td>\n",
       "      <td>0</td>\n",
       "      <td>0</td>\n",
       "      <td>7.9250</td>\n",
       "      <td>S</td>\n",
       "      <td>0</td>\n",
       "      <td>S</td>\n",
       "      <td>other</td>\n",
       "    </tr>\n",
       "    <tr>\n",
       "      <th>4</th>\n",
       "      <td>1.0</td>\n",
       "      <td>1</td>\n",
       "      <td>female</td>\n",
       "      <td>35.0</td>\n",
       "      <td>1</td>\n",
       "      <td>0</td>\n",
       "      <td>53.1000</td>\n",
       "      <td>S</td>\n",
       "      <td>C</td>\n",
       "      <td>1</td>\n",
       "      <td>6</td>\n",
       "    </tr>\n",
       "    <tr>\n",
       "      <th>5</th>\n",
       "      <td>0.0</td>\n",
       "      <td>3</td>\n",
       "      <td>male</td>\n",
       "      <td>35.0</td>\n",
       "      <td>0</td>\n",
       "      <td>0</td>\n",
       "      <td>8.0500</td>\n",
       "      <td>S</td>\n",
       "      <td>0</td>\n",
       "      <td>3</td>\n",
       "      <td>6</td>\n",
       "    </tr>\n",
       "  </tbody>\n",
       "</table>\n",
       "</div>"
      ],
      "text/plain": [
       "             Survived Pclass     Sex   Age  SibSp  Parch     Fare Embarked  \\\n",
       "PassengerId                                                                  \n",
       "1                 0.0      3    male  22.0      1      0   7.2500        S   \n",
       "2                 1.0      1  female  38.0      1      0  71.2833        C   \n",
       "3                 1.0      3  female  26.0      0      0   7.9250        S   \n",
       "4                 1.0      1  female  35.0      1      0  53.1000        S   \n",
       "5                 0.0      3    male  35.0      0      0   8.0500        S   \n",
       "\n",
       "            cabin_class Ticket_first_symbol Ticket_length  \n",
       "PassengerId                                                \n",
       "1                     0                   A         other  \n",
       "2                     C                   P             8  \n",
       "3                     0                   S         other  \n",
       "4                     C                   1             6  \n",
       "5                     0                   3             6  "
      ]
     },
     "execution_count": 33,
     "metadata": {},
     "output_type": "execute_result"
    }
   ],
   "source": [
    "EDA.drop(columns= ['Ticket', 'Name', 'Cabin'], inplace= True)\n",
    "EDA.head()"
   ]
  },
  {
   "cell_type": "markdown",
   "metadata": {},
   "source": [
    "## 2.7 Fare + delete outliers"
   ]
  },
  {
   "cell_type": "code",
   "execution_count": 111,
   "metadata": {},
   "outputs": [
    {
     "data": {
      "text/plain": [
       "<matplotlib.collections.PathCollection at 0x13386512ee0>"
      ]
     },
     "execution_count": 111,
     "metadata": {},
     "output_type": "execute_result"
    },
    {
     "data": {
      "image/png": "[encoded data removed]",
      "text/plain": [
       "<Figure size 432x288 with 1 Axes>"
      ]
     },
     "metadata": {
      "needs_background": "light"
     },
     "output_type": "display_data"
    }
   ],
   "source": [
    "plt.scatter(x= 'Age', y= 'Fare', data= EDA)"
   ]
  },
  {
   "cell_type": "code",
   "execution_count": 34,
   "metadata": {},
   "outputs": [
    {
     "data": {
      "text/plain": [
       "<seaborn.axisgrid.FacetGrid at 0x133ffc55400>"
      ]
     },
     "execution_count": 34,
     "metadata": {},
     "output_type": "execute_result"
    },
    {
     "data": {
      "image/png": "[encoded data removed]",
      "text/plain": [
       "<Figure size 360x360 with 1 Axes>"
      ]
     },
     "metadata": {
      "needs_background": "light"
     },
     "output_type": "display_data"
    }
   ],
   "source": [
    "temp= EDA['Fare']\n",
    "sns.displot(temp, kde= True)"
   ]
  },
  {
   "cell_type": "markdown",
   "metadata": {},
   "source": [
    "seems like there are outliers"
   ]
  },
  {
   "cell_type": "code",
   "execution_count": 35,
   "metadata": {},
   "outputs": [
    {
     "data": {
      "image/png": "[encoded data removed]",
      "text/plain": [
       "<Figure size 360x360 with 1 Axes>"
      ]
     },
     "metadata": {
      "needs_background": "light"
     },
     "output_type": "display_data"
    },
    {
     "data": {
      "image/png": "[encoded data removed]",
      "text/plain": [
       "<Figure size 360x360 with 1 Axes>"
      ]
     },
     "metadata": {
      "needs_background": "light"
     },
     "output_type": "display_data"
    },
    {
     "data": {
      "image/png": "[encoded data removed]",
      "text/plain": [
       "<Figure size 360x360 with 1 Axes>"
      ]
     },
     "metadata": {
      "needs_background": "light"
     },
     "output_type": "display_data"
    }
   ],
   "source": [
    "for i in range(1,4):\n",
    "    temp= EDA[EDA['Pclass']== i]\n",
    "    sns.displot(temp['Fare'], kde= True)"
   ]
  },
  {
   "cell_type": "code",
   "execution_count": 36,
   "metadata": {},
   "outputs": [
    {
     "data": {
      "text/plain": [
       "<seaborn.axisgrid.FacetGrid at 0x133ff0b4190>"
      ]
     },
     "execution_count": 36,
     "metadata": {},
     "output_type": "execute_result"
    },
    {
     "data": {
      "image/png": "[encoded data removed]",
      "text/plain": [
       "<Figure size 360x360 with 1 Axes>"
      ]
     },
     "metadata": {
      "needs_background": "light"
     },
     "output_type": "display_data"
    },
    {
     "data": {
      "image/png": "[encoded data removed]",
      "text/plain": [
       "<Figure size 360x360 with 1 Axes>"
      ]
     },
     "metadata": {
      "needs_background": "light"
     },
     "output_type": "display_data"
    },
    {
     "data": {
      "image/png": "[encoded data removed]",
      "text/plain": [
       "<Figure size 360x360 with 1 Axes>"
      ]
     },
     "metadata": {
      "needs_background": "light"
     },
     "output_type": "display_data"
    }
   ],
   "source": [
    "temp= EDA[EDA['Pclass']== 1]\n",
    "sns.displot(temp['Fare'], kde= True)\n",
    "temp= EDA[EDA['Pclass']== 2]\n",
    "sns.displot(temp['Fare'], kde= True)\n",
    "temp= EDA[EDA['Pclass']== 3]\n",
    "sns.displot(temp['Fare'], kde= True)"
   ]
  },
  {
   "cell_type": "markdown",
   "metadata": {},
   "source": [
    "let's check z-scores, if there are any, they are right-sided"
   ]
  },
  {
   "cell_type": "code",
   "execution_count": 37,
   "metadata": {},
   "outputs": [
    {
     "data": {
      "text/plain": [
       "5.28073473310326"
      ]
     },
     "execution_count": 37,
     "metadata": {},
     "output_type": "execute_result"
    }
   ],
   "source": [
    "temp= EDA[EDA['Pclass']== 1]['Fare']\n",
    "z= temp.apply(lambda x: (x-temp.mean())/temp.std())\n",
    "z.max()"
   ]
  },
  {
   "cell_type": "code",
   "execution_count": 38,
   "metadata": {},
   "outputs": [
    {
     "data": {
      "text/plain": [
       "3.845104306154193"
      ]
     },
     "execution_count": 38,
     "metadata": {},
     "output_type": "execute_result"
    }
   ],
   "source": [
    "temp= EDA[EDA['Pclass']== 2]['Fare']\n",
    "z= temp.apply(lambda x: (x-temp.mean())/temp.std())\n",
    "z.max()"
   ]
  },
  {
   "cell_type": "code",
   "execution_count": 39,
   "metadata": {},
   "outputs": [
    {
     "data": {
      "text/plain": [
       "4.893453734476122"
      ]
     },
     "execution_count": 39,
     "metadata": {},
     "output_type": "execute_result"
    }
   ],
   "source": [
    "temp= EDA[EDA['Pclass']== 3]['Fare']\n",
    "z= temp.apply(lambda x: (x-temp.mean())/temp.std())\n",
    "z.max()"
   ]
  },
  {
   "cell_type": "markdown",
   "metadata": {},
   "source": [
    "so, there are some right-side outliers (probably people who paid for their whole family, that's why there are 0s)"
   ]
  },
  {
   "cell_type": "code",
   "execution_count": 40,
   "metadata": {},
   "outputs": [
    {
     "name": "stdout",
     "output_type": "stream",
     "text": [
      "values dropped: 4\n",
      "values dropped: 12\n",
      "values dropped: 20\n"
     ]
    },
    {
     "data": {
      "text/plain": [
       "0"
      ]
     },
     "execution_count": 40,
     "metadata": {},
     "output_type": "execute_result"
    },
    {
     "data": {
      "image/png": "[encoded data removed]",
      "text/plain": [
       "<Figure size 360x360 with 1 Axes>"
      ]
     },
     "metadata": {
      "needs_background": "light"
     },
     "output_type": "display_data"
    },
    {
     "data": {
      "image/png": "[encoded data removed]",
      "text/plain": [
       "<Figure size 360x360 with 1 Axes>"
      ]
     },
     "metadata": {
      "needs_background": "light"
     },
     "output_type": "display_data"
    },
    {
     "data": {
      "image/png": "[encoded data removed]",
      "text/plain": [
       "<Figure size 360x360 with 1 Axes>"
      ]
     },
     "metadata": {
      "needs_background": "light"
     },
     "output_type": "display_data"
    }
   ],
   "source": [
    "temp= EDA[EDA['Pclass']== 1]['Fare']\n",
    "z1= temp.apply(lambda x: np.nan if ((x-temp.mean())/temp.std()) > 3 else x)\n",
    "sns.displot(z1, kde= True)\n",
    "print('values dropped:', z1.isnull().sum() )\n",
    "z1.fillna(temp.mean(), inplace= True)\n",
    "\n",
    "temp= EDA[EDA['Pclass']== 2]['Fare']\n",
    "z2= temp.apply(lambda x: np.nan if ((x-temp.mean())/temp.std()) > 3 else x)\n",
    "sns.displot(z2, kde= True)\n",
    "print('values dropped:', z2.isnull().sum() )\n",
    "z2.fillna(temp.mean(), inplace= True)\n",
    "\n",
    "temp= EDA[EDA['Pclass']== 3]['Fare']\n",
    "z3= temp.apply(lambda x: np.nan if ((x-temp.mean())/temp.std()) > 3 else x)\n",
    "sns.displot(z3, kde= True)\n",
    "print('values dropped:', z3.isnull().sum() )\n",
    "z3.fillna(temp.mean(), inplace= True)\n",
    "\n",
    "\n",
    "\n",
    "z= pd.concat([z1,z2,z3])\n",
    "EDA['Fare']= z\n",
    "z.isnull().sum()"
   ]
  },
  {
   "cell_type": "code",
   "execution_count": 41,
   "metadata": {},
   "outputs": [
    {
     "data": {
      "text/plain": [
       "<seaborn.axisgrid.FacetGrid at 0x133fff42760>"
      ]
     },
     "execution_count": 41,
     "metadata": {},
     "output_type": "execute_result"
    },
    {
     "data": {
      "image/png": "[encoded data removed]",
      "text/plain": [
       "<Figure size 360x360 with 1 Axes>"
      ]
     },
     "metadata": {
      "needs_background": "light"
     },
     "output_type": "display_data"
    }
   ],
   "source": [
    "sns.displot(EDA['Fare'], kde= True)"
   ]
  },
  {
   "cell_type": "code",
   "execution_count": 42,
   "metadata": {},
   "outputs": [
    {
     "data": {
      "text/plain": [
       "<AxesSubplot:xlabel='Fare', ylabel='Count'>"
      ]
     },
     "execution_count": 42,
     "metadata": {},
     "output_type": "execute_result"
    },
    {
     "data": {
      "image/png": "[encoded data removed]",
      "text/plain": [
       "<Figure size 432x288 with 1 Axes>"
      ]
     },
     "metadata": {
      "needs_background": "light"
     },
     "output_type": "display_data"
    }
   ],
   "source": [
    "sns.histplot(data=EDA, x=\"Fare\", hue=\"Survived\", multiple=\"stack\")"
   ]
  },
  {
   "cell_type": "code",
   "execution_count": 43,
   "metadata": {},
   "outputs": [
    {
     "data": {
      "text/plain": [
       "<AxesSubplot:xlabel='Fare', ylabel='Count'>"
      ]
     },
     "execution_count": 43,
     "metadata": {},
     "output_type": "execute_result"
    },
    {
     "data": {
      "image/png": "[encoded data removed]",
      "text/plain": [
       "<Figure size 432x288 with 1 Axes>"
      ]
     },
     "metadata": {
      "needs_background": "light"
     },
     "output_type": "display_data"
    }
   ],
   "source": [
    "sns.histplot(data=EDA[EDA['Fare']> 20], x=\"Fare\", hue=\"Survived\", multiple=\"stack\")"
   ]
  },
  {
   "cell_type": "code",
   "execution_count": 44,
   "metadata": {},
   "outputs": [
    {
     "data": {
      "text/plain": [
       "<AxesSubplot:xlabel='Fare', ylabel='Count'>"
      ]
     },
     "execution_count": 44,
     "metadata": {},
     "output_type": "execute_result"
    },
    {
     "data": {
      "image/png": "[encoded data removed]",
      "text/plain": [
       "<Figure size 432x288 with 1 Axes>"
      ]
     },
     "metadata": {
      "needs_background": "light"
     },
     "output_type": "display_data"
    }
   ],
   "source": [
    "sns.histplot(data= EDA[EDA['Fare']> 20], x=\"Fare\", hue=\"Survived\", multiple=\"stack\")"
   ]
  },
  {
   "cell_type": "markdown",
   "metadata": {},
   "source": [
    "As we see, the higher the Fare, the higher the survival rate"
   ]
  },
  {
   "cell_type": "markdown",
   "metadata": {},
   "source": [
    "## 2.8 SibSp+ Parch"
   ]
  },
  {
   "cell_type": "code",
   "execution_count": 45,
   "metadata": {},
   "outputs": [
    {
     "data": {
      "text/html": [
       "<div>\n",
       "<style scoped>\n",
       "    .dataframe tbody tr th:only-of-type {\n",
       "        vertical-align: middle;\n",
       "    }\n",
       "\n",
       "    .dataframe tbody tr th {\n",
       "        vertical-align: top;\n",
       "    }\n",
       "\n",
       "    .dataframe thead th {\n",
       "        text-align: right;\n",
       "    }\n",
       "</style>\n",
       "<table border=\"1\" class=\"dataframe\">\n",
       "  <thead>\n",
       "    <tr style=\"text-align: right;\">\n",
       "      <th></th>\n",
       "      <th>Survived</th>\n",
       "      <th>Pclass</th>\n",
       "      <th>Sex</th>\n",
       "      <th>Age</th>\n",
       "      <th>SibSp</th>\n",
       "      <th>Parch</th>\n",
       "      <th>Fare</th>\n",
       "      <th>Embarked</th>\n",
       "      <th>cabin_class</th>\n",
       "      <th>Ticket_first_symbol</th>\n",
       "      <th>Ticket_length</th>\n",
       "    </tr>\n",
       "    <tr>\n",
       "      <th>PassengerId</th>\n",
       "      <th></th>\n",
       "      <th></th>\n",
       "      <th></th>\n",
       "      <th></th>\n",
       "      <th></th>\n",
       "      <th></th>\n",
       "      <th></th>\n",
       "      <th></th>\n",
       "      <th></th>\n",
       "      <th></th>\n",
       "      <th></th>\n",
       "    </tr>\n",
       "  </thead>\n",
       "  <tbody>\n",
       "    <tr>\n",
       "      <th>1</th>\n",
       "      <td>0.0</td>\n",
       "      <td>3</td>\n",
       "      <td>male</td>\n",
       "      <td>22.0</td>\n",
       "      <td>1</td>\n",
       "      <td>0</td>\n",
       "      <td>7.2500</td>\n",
       "      <td>S</td>\n",
       "      <td>0</td>\n",
       "      <td>A</td>\n",
       "      <td>other</td>\n",
       "    </tr>\n",
       "    <tr>\n",
       "      <th>2</th>\n",
       "      <td>1.0</td>\n",
       "      <td>1</td>\n",
       "      <td>female</td>\n",
       "      <td>38.0</td>\n",
       "      <td>1</td>\n",
       "      <td>0</td>\n",
       "      <td>71.2833</td>\n",
       "      <td>C</td>\n",
       "      <td>C</td>\n",
       "      <td>P</td>\n",
       "      <td>8</td>\n",
       "    </tr>\n",
       "    <tr>\n",
       "      <th>3</th>\n",
       "      <td>1.0</td>\n",
       "      <td>3</td>\n",
       "      <td>female</td>\n",
       "      <td>26.0</td>\n",
       "      <td>0</td>\n",
       "      <td>0</td>\n",
       "      <td>7.9250</td>\n",
       "      <td>S</td>\n",
       "      <td>0</td>\n",
       "      <td>S</td>\n",
       "      <td>other</td>\n",
       "    </tr>\n",
       "    <tr>\n",
       "      <th>4</th>\n",
       "      <td>1.0</td>\n",
       "      <td>1</td>\n",
       "      <td>female</td>\n",
       "      <td>35.0</td>\n",
       "      <td>1</td>\n",
       "      <td>0</td>\n",
       "      <td>53.1000</td>\n",
       "      <td>S</td>\n",
       "      <td>C</td>\n",
       "      <td>1</td>\n",
       "      <td>6</td>\n",
       "    </tr>\n",
       "    <tr>\n",
       "      <th>5</th>\n",
       "      <td>0.0</td>\n",
       "      <td>3</td>\n",
       "      <td>male</td>\n",
       "      <td>35.0</td>\n",
       "      <td>0</td>\n",
       "      <td>0</td>\n",
       "      <td>8.0500</td>\n",
       "      <td>S</td>\n",
       "      <td>0</td>\n",
       "      <td>3</td>\n",
       "      <td>6</td>\n",
       "    </tr>\n",
       "  </tbody>\n",
       "</table>\n",
       "</div>"
      ],
      "text/plain": [
       "             Survived Pclass     Sex   Age  SibSp  Parch     Fare Embarked  \\\n",
       "PassengerId                                                                  \n",
       "1                 0.0      3    male  22.0      1      0   7.2500        S   \n",
       "2                 1.0      1  female  38.0      1      0  71.2833        C   \n",
       "3                 1.0      3  female  26.0      0      0   7.9250        S   \n",
       "4                 1.0      1  female  35.0      1      0  53.1000        S   \n",
       "5                 0.0      3    male  35.0      0      0   8.0500        S   \n",
       "\n",
       "            cabin_class Ticket_first_symbol Ticket_length  \n",
       "PassengerId                                                \n",
       "1                     0                   A         other  \n",
       "2                     C                   P             8  \n",
       "3                     0                   S         other  \n",
       "4                     C                   1             6  \n",
       "5                     0                   3             6  "
      ]
     },
     "execution_count": 45,
     "metadata": {},
     "output_type": "execute_result"
    }
   ],
   "source": [
    "EDA.head()"
   ]
  },
  {
   "cell_type": "code",
   "execution_count": 46,
   "metadata": {},
   "outputs": [
    {
     "data": {
      "text/plain": [
       "0    891\n",
       "1    319\n",
       "2     42\n",
       "4     22\n",
       "3     20\n",
       "Name: SibSp, dtype: int64"
      ]
     },
     "execution_count": 46,
     "metadata": {},
     "output_type": "execute_result"
    }
   ],
   "source": [
    "EDA['SibSp'].value_counts().head()"
   ]
  },
  {
   "cell_type": "code",
   "execution_count": 47,
   "metadata": {},
   "outputs": [
    {
     "data": {
      "text/plain": [
       "0    1002\n",
       "1     170\n",
       "2     113\n",
       "3       8\n",
       "5       6\n",
       "Name: Parch, dtype: int64"
      ]
     },
     "execution_count": 47,
     "metadata": {},
     "output_type": "execute_result"
    }
   ],
   "source": [
    "EDA['Parch'].value_counts().head()\n"
   ]
  },
  {
   "cell_type": "code",
   "execution_count": 48,
   "metadata": {},
   "outputs": [],
   "source": [
    "EDA['Fare/Parch']= EDA['Fare']/(EDA['Parch']+1)\n",
    "EDA['Fare/SibSp']= EDA['Fare']/(EDA['SibSp']+1)\n",
    "EDA['Fare/Parch+SibSp']= EDA['Fare']/(EDA['Parch']+EDA['SibSp']+1)"
   ]
  },
  {
   "cell_type": "code",
   "execution_count": 49,
   "metadata": {},
   "outputs": [],
   "source": [
    "EDA['Family_members']= EDA['Parch']+ EDA['SibSp'] +1"
   ]
  },
  {
   "cell_type": "code",
   "execution_count": 50,
   "metadata": {},
   "outputs": [
    {
     "data": {
      "text/html": [
       "<div>\n",
       "<style scoped>\n",
       "    .dataframe tbody tr th:only-of-type {\n",
       "        vertical-align: middle;\n",
       "    }\n",
       "\n",
       "    .dataframe tbody tr th {\n",
       "        vertical-align: top;\n",
       "    }\n",
       "\n",
       "    .dataframe thead th {\n",
       "        text-align: right;\n",
       "    }\n",
       "</style>\n",
       "<table border=\"1\" class=\"dataframe\">\n",
       "  <thead>\n",
       "    <tr style=\"text-align: right;\">\n",
       "      <th></th>\n",
       "      <th>Survived</th>\n",
       "      <th>Pclass</th>\n",
       "      <th>Sex</th>\n",
       "      <th>Age</th>\n",
       "      <th>SibSp</th>\n",
       "      <th>Parch</th>\n",
       "      <th>Fare</th>\n",
       "      <th>Embarked</th>\n",
       "      <th>cabin_class</th>\n",
       "      <th>Ticket_first_symbol</th>\n",
       "      <th>Ticket_length</th>\n",
       "      <th>Fare/Parch</th>\n",
       "      <th>Fare/SibSp</th>\n",
       "      <th>Fare/Parch+SibSp</th>\n",
       "      <th>Family_members</th>\n",
       "    </tr>\n",
       "    <tr>\n",
       "      <th>PassengerId</th>\n",
       "      <th></th>\n",
       "      <th></th>\n",
       "      <th></th>\n",
       "      <th></th>\n",
       "      <th></th>\n",
       "      <th></th>\n",
       "      <th></th>\n",
       "      <th></th>\n",
       "      <th></th>\n",
       "      <th></th>\n",
       "      <th></th>\n",
       "      <th></th>\n",
       "      <th></th>\n",
       "      <th></th>\n",
       "      <th></th>\n",
       "    </tr>\n",
       "  </thead>\n",
       "  <tbody>\n",
       "    <tr>\n",
       "      <th>1</th>\n",
       "      <td>0.0</td>\n",
       "      <td>3</td>\n",
       "      <td>male</td>\n",
       "      <td>22.0</td>\n",
       "      <td>1</td>\n",
       "      <td>0</td>\n",
       "      <td>7.2500</td>\n",
       "      <td>S</td>\n",
       "      <td>0</td>\n",
       "      <td>A</td>\n",
       "      <td>other</td>\n",
       "      <td>7.2500</td>\n",
       "      <td>3.62500</td>\n",
       "      <td>3.62500</td>\n",
       "      <td>2</td>\n",
       "    </tr>\n",
       "    <tr>\n",
       "      <th>2</th>\n",
       "      <td>1.0</td>\n",
       "      <td>1</td>\n",
       "      <td>female</td>\n",
       "      <td>38.0</td>\n",
       "      <td>1</td>\n",
       "      <td>0</td>\n",
       "      <td>71.2833</td>\n",
       "      <td>C</td>\n",
       "      <td>C</td>\n",
       "      <td>P</td>\n",
       "      <td>8</td>\n",
       "      <td>71.2833</td>\n",
       "      <td>35.64165</td>\n",
       "      <td>35.64165</td>\n",
       "      <td>2</td>\n",
       "    </tr>\n",
       "    <tr>\n",
       "      <th>3</th>\n",
       "      <td>1.0</td>\n",
       "      <td>3</td>\n",
       "      <td>female</td>\n",
       "      <td>26.0</td>\n",
       "      <td>0</td>\n",
       "      <td>0</td>\n",
       "      <td>7.9250</td>\n",
       "      <td>S</td>\n",
       "      <td>0</td>\n",
       "      <td>S</td>\n",
       "      <td>other</td>\n",
       "      <td>7.9250</td>\n",
       "      <td>7.92500</td>\n",
       "      <td>7.92500</td>\n",
       "      <td>1</td>\n",
       "    </tr>\n",
       "    <tr>\n",
       "      <th>4</th>\n",
       "      <td>1.0</td>\n",
       "      <td>1</td>\n",
       "      <td>female</td>\n",
       "      <td>35.0</td>\n",
       "      <td>1</td>\n",
       "      <td>0</td>\n",
       "      <td>53.1000</td>\n",
       "      <td>S</td>\n",
       "      <td>C</td>\n",
       "      <td>1</td>\n",
       "      <td>6</td>\n",
       "      <td>53.1000</td>\n",
       "      <td>26.55000</td>\n",
       "      <td>26.55000</td>\n",
       "      <td>2</td>\n",
       "    </tr>\n",
       "    <tr>\n",
       "      <th>5</th>\n",
       "      <td>0.0</td>\n",
       "      <td>3</td>\n",
       "      <td>male</td>\n",
       "      <td>35.0</td>\n",
       "      <td>0</td>\n",
       "      <td>0</td>\n",
       "      <td>8.0500</td>\n",
       "      <td>S</td>\n",
       "      <td>0</td>\n",
       "      <td>3</td>\n",
       "      <td>6</td>\n",
       "      <td>8.0500</td>\n",
       "      <td>8.05000</td>\n",
       "      <td>8.05000</td>\n",
       "      <td>1</td>\n",
       "    </tr>\n",
       "  </tbody>\n",
       "</table>\n",
       "</div>"
      ],
      "text/plain": [
       "             Survived Pclass     Sex   Age  SibSp  Parch     Fare Embarked  \\\n",
       "PassengerId                                                                  \n",
       "1                 0.0      3    male  22.0      1      0   7.2500        S   \n",
       "2                 1.0      1  female  38.0      1      0  71.2833        C   \n",
       "3                 1.0      3  female  26.0      0      0   7.9250        S   \n",
       "4                 1.0      1  female  35.0      1      0  53.1000        S   \n",
       "5                 0.0      3    male  35.0      0      0   8.0500        S   \n",
       "\n",
       "            cabin_class Ticket_first_symbol Ticket_length  Fare/Parch  \\\n",
       "PassengerId                                                             \n",
       "1                     0                   A         other      7.2500   \n",
       "2                     C                   P             8     71.2833   \n",
       "3                     0                   S         other      7.9250   \n",
       "4                     C                   1             6     53.1000   \n",
       "5                     0                   3             6      8.0500   \n",
       "\n",
       "             Fare/SibSp  Fare/Parch+SibSp  Family_members  \n",
       "PassengerId                                                \n",
       "1               3.62500           3.62500               2  \n",
       "2              35.64165          35.64165               2  \n",
       "3               7.92500           7.92500               1  \n",
       "4              26.55000          26.55000               2  \n",
       "5               8.05000           8.05000               1  "
      ]
     },
     "execution_count": 50,
     "metadata": {},
     "output_type": "execute_result"
    }
   ],
   "source": [
    "EDA.head()"
   ]
  },
  {
   "cell_type": "code",
   "execution_count": 51,
   "metadata": {},
   "outputs": [
    {
     "data": {
      "text/plain": [
       "<AxesSubplot:xlabel='SibSp', ylabel='Count'>"
      ]
     },
     "execution_count": 51,
     "metadata": {},
     "output_type": "execute_result"
    },
    {
     "data": {
      "image/png": "[encoded data removed]",
      "text/plain": [
       "<Figure size 2160x360 with 3 Axes>"
      ]
     },
     "metadata": {
      "needs_background": "light"
     },
     "output_type": "display_data"
    }
   ],
   "source": [
    "fig, axs= plt.subplots(1,3, figsize=(30,5))\n",
    "sns.histplot(data= EDA, x=\"Family_members\", hue=\"Survived\", multiple=\"stack\", ax= axs[0])\n",
    "sns.histplot(data= EDA, x=\"Parch\", hue=\"Survived\", multiple=\"stack\", ax= axs[1])\n",
    "sns.histplot(data= EDA, x=\"SibSp\", hue=\"Survived\", multiple=\"stack\", ax= axs[2])"
   ]
  },
  {
   "cell_type": "code",
   "execution_count": 52,
   "metadata": {},
   "outputs": [
    {
     "data": {
      "text/html": [
       "<div>\n",
       "<style scoped>\n",
       "    .dataframe tbody tr th:only-of-type {\n",
       "        vertical-align: middle;\n",
       "    }\n",
       "\n",
       "    .dataframe tbody tr th {\n",
       "        vertical-align: top;\n",
       "    }\n",
       "\n",
       "    .dataframe thead th {\n",
       "        text-align: right;\n",
       "    }\n",
       "</style>\n",
       "<table border=\"1\" class=\"dataframe\">\n",
       "  <thead>\n",
       "    <tr style=\"text-align: right;\">\n",
       "      <th></th>\n",
       "      <th>Survived</th>\n",
       "      <th>Pclass</th>\n",
       "      <th>Sex</th>\n",
       "      <th>Age</th>\n",
       "      <th>SibSp</th>\n",
       "      <th>Parch</th>\n",
       "      <th>Fare</th>\n",
       "      <th>Embarked</th>\n",
       "      <th>cabin_class</th>\n",
       "      <th>Ticket_first_symbol</th>\n",
       "      <th>Ticket_length</th>\n",
       "      <th>Fare/Parch</th>\n",
       "      <th>Fare/SibSp</th>\n",
       "      <th>Fare/Parch+SibSp</th>\n",
       "      <th>Family_members</th>\n",
       "    </tr>\n",
       "    <tr>\n",
       "      <th>PassengerId</th>\n",
       "      <th></th>\n",
       "      <th></th>\n",
       "      <th></th>\n",
       "      <th></th>\n",
       "      <th></th>\n",
       "      <th></th>\n",
       "      <th></th>\n",
       "      <th></th>\n",
       "      <th></th>\n",
       "      <th></th>\n",
       "      <th></th>\n",
       "      <th></th>\n",
       "      <th></th>\n",
       "      <th></th>\n",
       "      <th></th>\n",
       "    </tr>\n",
       "  </thead>\n",
       "  <tbody>\n",
       "    <tr>\n",
       "      <th>1</th>\n",
       "      <td>0.0</td>\n",
       "      <td>3</td>\n",
       "      <td>male</td>\n",
       "      <td>22.0</td>\n",
       "      <td>1</td>\n",
       "      <td>0</td>\n",
       "      <td>7.2500</td>\n",
       "      <td>S</td>\n",
       "      <td>0</td>\n",
       "      <td>A</td>\n",
       "      <td>other</td>\n",
       "      <td>7.2500</td>\n",
       "      <td>3.62500</td>\n",
       "      <td>3.62500</td>\n",
       "      <td>2</td>\n",
       "    </tr>\n",
       "    <tr>\n",
       "      <th>2</th>\n",
       "      <td>1.0</td>\n",
       "      <td>1</td>\n",
       "      <td>female</td>\n",
       "      <td>38.0</td>\n",
       "      <td>1</td>\n",
       "      <td>0</td>\n",
       "      <td>71.2833</td>\n",
       "      <td>C</td>\n",
       "      <td>C</td>\n",
       "      <td>P</td>\n",
       "      <td>8</td>\n",
       "      <td>71.2833</td>\n",
       "      <td>35.64165</td>\n",
       "      <td>35.64165</td>\n",
       "      <td>2</td>\n",
       "    </tr>\n",
       "    <tr>\n",
       "      <th>3</th>\n",
       "      <td>1.0</td>\n",
       "      <td>3</td>\n",
       "      <td>female</td>\n",
       "      <td>26.0</td>\n",
       "      <td>0</td>\n",
       "      <td>0</td>\n",
       "      <td>7.9250</td>\n",
       "      <td>S</td>\n",
       "      <td>0</td>\n",
       "      <td>S</td>\n",
       "      <td>other</td>\n",
       "      <td>7.9250</td>\n",
       "      <td>7.92500</td>\n",
       "      <td>7.92500</td>\n",
       "      <td>1</td>\n",
       "    </tr>\n",
       "    <tr>\n",
       "      <th>4</th>\n",
       "      <td>1.0</td>\n",
       "      <td>1</td>\n",
       "      <td>female</td>\n",
       "      <td>35.0</td>\n",
       "      <td>1</td>\n",
       "      <td>0</td>\n",
       "      <td>53.1000</td>\n",
       "      <td>S</td>\n",
       "      <td>C</td>\n",
       "      <td>1</td>\n",
       "      <td>6</td>\n",
       "      <td>53.1000</td>\n",
       "      <td>26.55000</td>\n",
       "      <td>26.55000</td>\n",
       "      <td>2</td>\n",
       "    </tr>\n",
       "    <tr>\n",
       "      <th>5</th>\n",
       "      <td>0.0</td>\n",
       "      <td>3</td>\n",
       "      <td>male</td>\n",
       "      <td>35.0</td>\n",
       "      <td>0</td>\n",
       "      <td>0</td>\n",
       "      <td>8.0500</td>\n",
       "      <td>S</td>\n",
       "      <td>0</td>\n",
       "      <td>3</td>\n",
       "      <td>6</td>\n",
       "      <td>8.0500</td>\n",
       "      <td>8.05000</td>\n",
       "      <td>8.05000</td>\n",
       "      <td>1</td>\n",
       "    </tr>\n",
       "  </tbody>\n",
       "</table>\n",
       "</div>"
      ],
      "text/plain": [
       "             Survived Pclass     Sex   Age  SibSp  Parch     Fare Embarked  \\\n",
       "PassengerId                                                                  \n",
       "1                 0.0      3    male  22.0      1      0   7.2500        S   \n",
       "2                 1.0      1  female  38.0      1      0  71.2833        C   \n",
       "3                 1.0      3  female  26.0      0      0   7.9250        S   \n",
       "4                 1.0      1  female  35.0      1      0  53.1000        S   \n",
       "5                 0.0      3    male  35.0      0      0   8.0500        S   \n",
       "\n",
       "            cabin_class Ticket_first_symbol Ticket_length  Fare/Parch  \\\n",
       "PassengerId                                                             \n",
       "1                     0                   A         other      7.2500   \n",
       "2                     C                   P             8     71.2833   \n",
       "3                     0                   S         other      7.9250   \n",
       "4                     C                   1             6     53.1000   \n",
       "5                     0                   3             6      8.0500   \n",
       "\n",
       "             Fare/SibSp  Fare/Parch+SibSp  Family_members  \n",
       "PassengerId                                                \n",
       "1               3.62500           3.62500               2  \n",
       "2              35.64165          35.64165               2  \n",
       "3               7.92500           7.92500               1  \n",
       "4              26.55000          26.55000               2  \n",
       "5               8.05000           8.05000               1  "
      ]
     },
     "execution_count": 52,
     "metadata": {},
     "output_type": "execute_result"
    }
   ],
   "source": [
    "EDA.head()"
   ]
  },
  {
   "cell_type": "markdown",
   "metadata": {},
   "source": [
    "## 2.9 Scaling and OneHotEncoding"
   ]
  },
  {
   "cell_type": "markdown",
   "metadata": {},
   "source": [
    "Correlation Matrix "
   ]
  },
  {
   "cell_type": "code",
   "execution_count": 200,
   "metadata": {},
   "outputs": [
    {
     "data": {
      "image/png": "[encoded data removed]",
      "text/plain": [
       "<Figure size 1152x432 with 2 Axes>"
      ]
     },
     "metadata": {
      "needs_background": "light"
     },
     "output_type": "display_data"
    }
   ],
   "source": [
    "plt.figure(figsize=(16, 6))\n",
    "train_for_corr= EDA.copy()\n",
    "train_for_corr['Sex']= train_for_corr['Sex'].map({'male': 1, 'female': 0})\n",
    "train_for_corr['Pclass']= train_for_corr['Pclass'].astype(int)\n",
    "train_for_corr['Embarked']= train_for_corr['Embarked'].map({'S': 0, 'Q': 1, 'C':2})\n",
    "heatmap = sns.heatmap(train_for_corr.corr(), vmin=-1, vmax=1, annot=True, cmap='BrBG')"
   ]
  },
  {
   "cell_type": "code",
   "execution_count": 201,
   "metadata": {},
   "outputs": [],
   "source": [
    "final_data= EDA.copy()"
   ]
  },
  {
   "cell_type": "code",
   "execution_count": 202,
   "metadata": {},
   "outputs": [
    {
     "data": {
      "text/plain": [
       "Survived               float64\n",
       "Pclass                  object\n",
       "Sex                     object\n",
       "Age                    float64\n",
       "SibSp                    int64\n",
       "Parch                    int64\n",
       "Fare                   float64\n",
       "Embarked                object\n",
       "cabin_class             object\n",
       "Ticket_first_symbol     object\n",
       "Ticket_length           object\n",
       "Fare/Parch             float64\n",
       "Fare/SibSp             float64\n",
       "Fare/Parch+SibSp       float64\n",
       "Family_members           int64\n",
       "dtype: object"
      ]
     },
     "execution_count": 202,
     "metadata": {},
     "output_type": "execute_result"
    }
   ],
   "source": [
    "EDA.dtypes"
   ]
  },
  {
   "cell_type": "code",
   "execution_count": 203,
   "metadata": {},
   "outputs": [],
   "source": [
    "final_data['cabin_class']= final_data['cabin_class'].astype(str)\n",
    "final_data['Ticket_length']= final_data['Ticket_length'].astype(str)\n",
    "final_data['Ticket_first_symbol']= final_data['Ticket_first_symbol'].astype(str)"
   ]
  },
  {
   "cell_type": "code",
   "execution_count": 204,
   "metadata": {},
   "outputs": [
    {
     "data": {
      "text/plain": [
       "Survived    418\n",
       "Age         263\n",
       "Embarked      2\n",
       "Pclass        0\n",
       "dtype: int64"
      ]
     },
     "execution_count": 204,
     "metadata": {},
     "output_type": "execute_result"
    }
   ],
   "source": [
    "final_data.isnull().sum().sort_values(ascending=False).head(4)"
   ]
  },
  {
   "cell_type": "code",
   "execution_count": 205,
   "metadata": {},
   "outputs": [],
   "source": [
    "final_data.dropna(subset=['Embarked'], inplace= True)"
   ]
  },
  {
   "cell_type": "code",
   "execution_count": 206,
   "metadata": {},
   "outputs": [
    {
     "data": {
      "text/html": [
       "<div>\n",
       "<style scoped>\n",
       "    .dataframe tbody tr th:only-of-type {\n",
       "        vertical-align: middle;\n",
       "    }\n",
       "\n",
       "    .dataframe tbody tr th {\n",
       "        vertical-align: top;\n",
       "    }\n",
       "\n",
       "    .dataframe thead th {\n",
       "        text-align: right;\n",
       "    }\n",
       "</style>\n",
       "<table border=\"1\" class=\"dataframe\">\n",
       "  <thead>\n",
       "    <tr style=\"text-align: right;\">\n",
       "      <th></th>\n",
       "      <th>Survived</th>\n",
       "      <th>Pclass</th>\n",
       "      <th>Sex</th>\n",
       "      <th>Age</th>\n",
       "      <th>SibSp</th>\n",
       "      <th>Parch</th>\n",
       "      <th>Fare</th>\n",
       "      <th>Embarked</th>\n",
       "      <th>cabin_class</th>\n",
       "      <th>Ticket_first_symbol</th>\n",
       "      <th>Ticket_length</th>\n",
       "      <th>Fare/Parch</th>\n",
       "      <th>Fare/SibSp</th>\n",
       "      <th>Fare/Parch+SibSp</th>\n",
       "      <th>Family_members</th>\n",
       "    </tr>\n",
       "    <tr>\n",
       "      <th>PassengerId</th>\n",
       "      <th></th>\n",
       "      <th></th>\n",
       "      <th></th>\n",
       "      <th></th>\n",
       "      <th></th>\n",
       "      <th></th>\n",
       "      <th></th>\n",
       "      <th></th>\n",
       "      <th></th>\n",
       "      <th></th>\n",
       "      <th></th>\n",
       "      <th></th>\n",
       "      <th></th>\n",
       "      <th></th>\n",
       "      <th></th>\n",
       "    </tr>\n",
       "  </thead>\n",
       "  <tbody>\n",
       "    <tr>\n",
       "      <th>1</th>\n",
       "      <td>0.0</td>\n",
       "      <td>3</td>\n",
       "      <td>male</td>\n",
       "      <td>22.0</td>\n",
       "      <td>1</td>\n",
       "      <td>0</td>\n",
       "      <td>7.2500</td>\n",
       "      <td>S</td>\n",
       "      <td>0</td>\n",
       "      <td>A</td>\n",
       "      <td>other</td>\n",
       "      <td>7.2500</td>\n",
       "      <td>3.62500</td>\n",
       "      <td>3.62500</td>\n",
       "      <td>2</td>\n",
       "    </tr>\n",
       "    <tr>\n",
       "      <th>2</th>\n",
       "      <td>1.0</td>\n",
       "      <td>1</td>\n",
       "      <td>female</td>\n",
       "      <td>38.0</td>\n",
       "      <td>1</td>\n",
       "      <td>0</td>\n",
       "      <td>71.2833</td>\n",
       "      <td>C</td>\n",
       "      <td>C</td>\n",
       "      <td>P</td>\n",
       "      <td>8</td>\n",
       "      <td>71.2833</td>\n",
       "      <td>35.64165</td>\n",
       "      <td>35.64165</td>\n",
       "      <td>2</td>\n",
       "    </tr>\n",
       "    <tr>\n",
       "      <th>3</th>\n",
       "      <td>1.0</td>\n",
       "      <td>3</td>\n",
       "      <td>female</td>\n",
       "      <td>26.0</td>\n",
       "      <td>0</td>\n",
       "      <td>0</td>\n",
       "      <td>7.9250</td>\n",
       "      <td>S</td>\n",
       "      <td>0</td>\n",
       "      <td>S</td>\n",
       "      <td>other</td>\n",
       "      <td>7.9250</td>\n",
       "      <td>7.92500</td>\n",
       "      <td>7.92500</td>\n",
       "      <td>1</td>\n",
       "    </tr>\n",
       "    <tr>\n",
       "      <th>4</th>\n",
       "      <td>1.0</td>\n",
       "      <td>1</td>\n",
       "      <td>female</td>\n",
       "      <td>35.0</td>\n",
       "      <td>1</td>\n",
       "      <td>0</td>\n",
       "      <td>53.1000</td>\n",
       "      <td>S</td>\n",
       "      <td>C</td>\n",
       "      <td>1</td>\n",
       "      <td>6</td>\n",
       "      <td>53.1000</td>\n",
       "      <td>26.55000</td>\n",
       "      <td>26.55000</td>\n",
       "      <td>2</td>\n",
       "    </tr>\n",
       "    <tr>\n",
       "      <th>5</th>\n",
       "      <td>0.0</td>\n",
       "      <td>3</td>\n",
       "      <td>male</td>\n",
       "      <td>35.0</td>\n",
       "      <td>0</td>\n",
       "      <td>0</td>\n",
       "      <td>8.0500</td>\n",
       "      <td>S</td>\n",
       "      <td>0</td>\n",
       "      <td>3</td>\n",
       "      <td>6</td>\n",
       "      <td>8.0500</td>\n",
       "      <td>8.05000</td>\n",
       "      <td>8.05000</td>\n",
       "      <td>1</td>\n",
       "    </tr>\n",
       "  </tbody>\n",
       "</table>\n",
       "</div>"
      ],
      "text/plain": [
       "             Survived Pclass     Sex   Age  SibSp  Parch     Fare Embarked  \\\n",
       "PassengerId                                                                  \n",
       "1                 0.0      3    male  22.0      1      0   7.2500        S   \n",
       "2                 1.0      1  female  38.0      1      0  71.2833        C   \n",
       "3                 1.0      3  female  26.0      0      0   7.9250        S   \n",
       "4                 1.0      1  female  35.0      1      0  53.1000        S   \n",
       "5                 0.0      3    male  35.0      0      0   8.0500        S   \n",
       "\n",
       "            cabin_class Ticket_first_symbol Ticket_length  Fare/Parch  \\\n",
       "PassengerId                                                             \n",
       "1                     0                   A         other      7.2500   \n",
       "2                     C                   P             8     71.2833   \n",
       "3                     0                   S         other      7.9250   \n",
       "4                     C                   1             6     53.1000   \n",
       "5                     0                   3             6      8.0500   \n",
       "\n",
       "             Fare/SibSp  Fare/Parch+SibSp  Family_members  \n",
       "PassengerId                                                \n",
       "1               3.62500           3.62500               2  \n",
       "2              35.64165          35.64165               2  \n",
       "3               7.92500           7.92500               1  \n",
       "4              26.55000          26.55000               2  \n",
       "5               8.05000           8.05000               1  "
      ]
     },
     "execution_count": 206,
     "metadata": {},
     "output_type": "execute_result"
    }
   ],
   "source": [
    "final_data.head()"
   ]
  },
  {
   "cell_type": "code",
   "execution_count": 207,
   "metadata": {},
   "outputs": [
    {
     "data": {
      "text/plain": [
       "(1307, 15)"
      ]
     },
     "execution_count": 207,
     "metadata": {},
     "output_type": "execute_result"
    }
   ],
   "source": [
    "final_data.shape"
   ]
  },
  {
   "cell_type": "code",
   "execution_count": 208,
   "metadata": {},
   "outputs": [],
   "source": [
    "y1= final_data[final_data['Age'].notnull()]['Survived']\n",
    "y2= final_data[final_data['Age'].isnull()]['Survived']\n",
    "y= pd.concat([y1,y2])"
   ]
  },
  {
   "cell_type": "code",
   "execution_count": 209,
   "metadata": {},
   "outputs": [],
   "source": [
    "new_train= final_data[final_data['Age'].notnull()].drop(columns=['Survived'])\n",
    "new_test= final_data[final_data['Age'].isnull()].drop(columns=['Survived', 'Age'])"
   ]
  },
  {
   "cell_type": "code",
   "execution_count": 210,
   "metadata": {},
   "outputs": [
    {
     "data": {
      "text/plain": [
       "Index(['Pclass', 'Sex', 'Age', 'SibSp', 'Parch', 'Fare', 'Embarked',\n",
       "       'cabin_class', 'Ticket_first_symbol', 'Ticket_length', 'Fare/Parch',\n",
       "       'Fare/SibSp', 'Fare/Parch+SibSp', 'Family_members'],\n",
       "      dtype='object')"
      ]
     },
     "execution_count": 210,
     "metadata": {},
     "output_type": "execute_result"
    }
   ],
   "source": [
    "new_train.columns"
   ]
  },
  {
   "cell_type": "code",
   "execution_count": 211,
   "metadata": {},
   "outputs": [],
   "source": [
    "new_train= new_train[['Pclass', 'Sex', 'SibSp', 'Parch', 'Fare', 'Embarked', 'cabin_class',\n",
    "       'Ticket_first_symbol', 'Ticket_length', 'Fare/Parch', 'Fare/SibSp',\n",
    "       'Fare/Parch+SibSp', 'Family_members', 'Age']]"
   ]
  },
  {
   "cell_type": "code",
   "execution_count": 212,
   "metadata": {},
   "outputs": [
    {
     "data": {
      "text/html": [
       "<div>\n",
       "<style scoped>\n",
       "    .dataframe tbody tr th:only-of-type {\n",
       "        vertical-align: middle;\n",
       "    }\n",
       "\n",
       "    .dataframe tbody tr th {\n",
       "        vertical-align: top;\n",
       "    }\n",
       "\n",
       "    .dataframe thead th {\n",
       "        text-align: right;\n",
       "    }\n",
       "</style>\n",
       "<table border=\"1\" class=\"dataframe\">\n",
       "  <thead>\n",
       "    <tr style=\"text-align: right;\">\n",
       "      <th></th>\n",
       "      <th>Pclass</th>\n",
       "      <th>Sex</th>\n",
       "      <th>SibSp</th>\n",
       "      <th>Parch</th>\n",
       "      <th>Fare</th>\n",
       "      <th>Embarked</th>\n",
       "      <th>cabin_class</th>\n",
       "      <th>Ticket_first_symbol</th>\n",
       "      <th>Ticket_length</th>\n",
       "      <th>Fare/Parch</th>\n",
       "      <th>Fare/SibSp</th>\n",
       "      <th>Fare/Parch+SibSp</th>\n",
       "      <th>Family_members</th>\n",
       "      <th>Age</th>\n",
       "    </tr>\n",
       "    <tr>\n",
       "      <th>PassengerId</th>\n",
       "      <th></th>\n",
       "      <th></th>\n",
       "      <th></th>\n",
       "      <th></th>\n",
       "      <th></th>\n",
       "      <th></th>\n",
       "      <th></th>\n",
       "      <th></th>\n",
       "      <th></th>\n",
       "      <th></th>\n",
       "      <th></th>\n",
       "      <th></th>\n",
       "      <th></th>\n",
       "      <th></th>\n",
       "    </tr>\n",
       "  </thead>\n",
       "  <tbody>\n",
       "    <tr>\n",
       "      <th>1</th>\n",
       "      <td>3</td>\n",
       "      <td>male</td>\n",
       "      <td>1</td>\n",
       "      <td>0</td>\n",
       "      <td>7.2500</td>\n",
       "      <td>S</td>\n",
       "      <td>0</td>\n",
       "      <td>A</td>\n",
       "      <td>other</td>\n",
       "      <td>7.2500</td>\n",
       "      <td>3.62500</td>\n",
       "      <td>3.62500</td>\n",
       "      <td>2</td>\n",
       "      <td>22.0</td>\n",
       "    </tr>\n",
       "    <tr>\n",
       "      <th>2</th>\n",
       "      <td>1</td>\n",
       "      <td>female</td>\n",
       "      <td>1</td>\n",
       "      <td>0</td>\n",
       "      <td>71.2833</td>\n",
       "      <td>C</td>\n",
       "      <td>C</td>\n",
       "      <td>P</td>\n",
       "      <td>8</td>\n",
       "      <td>71.2833</td>\n",
       "      <td>35.64165</td>\n",
       "      <td>35.64165</td>\n",
       "      <td>2</td>\n",
       "      <td>38.0</td>\n",
       "    </tr>\n",
       "    <tr>\n",
       "      <th>3</th>\n",
       "      <td>3</td>\n",
       "      <td>female</td>\n",
       "      <td>0</td>\n",
       "      <td>0</td>\n",
       "      <td>7.9250</td>\n",
       "      <td>S</td>\n",
       "      <td>0</td>\n",
       "      <td>S</td>\n",
       "      <td>other</td>\n",
       "      <td>7.9250</td>\n",
       "      <td>7.92500</td>\n",
       "      <td>7.92500</td>\n",
       "      <td>1</td>\n",
       "      <td>26.0</td>\n",
       "    </tr>\n",
       "    <tr>\n",
       "      <th>4</th>\n",
       "      <td>1</td>\n",
       "      <td>female</td>\n",
       "      <td>1</td>\n",
       "      <td>0</td>\n",
       "      <td>53.1000</td>\n",
       "      <td>S</td>\n",
       "      <td>C</td>\n",
       "      <td>1</td>\n",
       "      <td>6</td>\n",
       "      <td>53.1000</td>\n",
       "      <td>26.55000</td>\n",
       "      <td>26.55000</td>\n",
       "      <td>2</td>\n",
       "      <td>35.0</td>\n",
       "    </tr>\n",
       "    <tr>\n",
       "      <th>5</th>\n",
       "      <td>3</td>\n",
       "      <td>male</td>\n",
       "      <td>0</td>\n",
       "      <td>0</td>\n",
       "      <td>8.0500</td>\n",
       "      <td>S</td>\n",
       "      <td>0</td>\n",
       "      <td>3</td>\n",
       "      <td>6</td>\n",
       "      <td>8.0500</td>\n",
       "      <td>8.05000</td>\n",
       "      <td>8.05000</td>\n",
       "      <td>1</td>\n",
       "      <td>35.0</td>\n",
       "    </tr>\n",
       "  </tbody>\n",
       "</table>\n",
       "</div>"
      ],
      "text/plain": [
       "            Pclass     Sex  SibSp  Parch     Fare Embarked cabin_class  \\\n",
       "PassengerId                                                              \n",
       "1                3    male      1      0   7.2500        S           0   \n",
       "2                1  female      1      0  71.2833        C           C   \n",
       "3                3  female      0      0   7.9250        S           0   \n",
       "4                1  female      1      0  53.1000        S           C   \n",
       "5                3    male      0      0   8.0500        S           0   \n",
       "\n",
       "            Ticket_first_symbol Ticket_length  Fare/Parch  Fare/SibSp  \\\n",
       "PassengerId                                                             \n",
       "1                             A         other      7.2500     3.62500   \n",
       "2                             P             8     71.2833    35.64165   \n",
       "3                             S         other      7.9250     7.92500   \n",
       "4                             1             6     53.1000    26.55000   \n",
       "5                             3             6      8.0500     8.05000   \n",
       "\n",
       "             Fare/Parch+SibSp  Family_members   Age  \n",
       "PassengerId                                          \n",
       "1                     3.62500               2  22.0  \n",
       "2                    35.64165               2  38.0  \n",
       "3                     7.92500               1  26.0  \n",
       "4                    26.55000               2  35.0  \n",
       "5                     8.05000               1  35.0  "
      ]
     },
     "execution_count": 212,
     "metadata": {},
     "output_type": "execute_result"
    }
   ],
   "source": [
    "new_train.head()"
   ]
  },
  {
   "cell_type": "code",
   "execution_count": 213,
   "metadata": {},
   "outputs": [
    {
     "data": {
      "text/html": [
       "<div>\n",
       "<style scoped>\n",
       "    .dataframe tbody tr th:only-of-type {\n",
       "        vertical-align: middle;\n",
       "    }\n",
       "\n",
       "    .dataframe tbody tr th {\n",
       "        vertical-align: top;\n",
       "    }\n",
       "\n",
       "    .dataframe thead th {\n",
       "        text-align: right;\n",
       "    }\n",
       "</style>\n",
       "<table border=\"1\" class=\"dataframe\">\n",
       "  <thead>\n",
       "    <tr style=\"text-align: right;\">\n",
       "      <th></th>\n",
       "      <th>Pclass</th>\n",
       "      <th>Sex</th>\n",
       "      <th>SibSp</th>\n",
       "      <th>Parch</th>\n",
       "      <th>Fare</th>\n",
       "      <th>Embarked</th>\n",
       "      <th>cabin_class</th>\n",
       "      <th>Ticket_first_symbol</th>\n",
       "      <th>Ticket_length</th>\n",
       "      <th>Fare/Parch</th>\n",
       "      <th>Fare/SibSp</th>\n",
       "      <th>Fare/Parch+SibSp</th>\n",
       "      <th>Family_members</th>\n",
       "    </tr>\n",
       "    <tr>\n",
       "      <th>PassengerId</th>\n",
       "      <th></th>\n",
       "      <th></th>\n",
       "      <th></th>\n",
       "      <th></th>\n",
       "      <th></th>\n",
       "      <th></th>\n",
       "      <th></th>\n",
       "      <th></th>\n",
       "      <th></th>\n",
       "      <th></th>\n",
       "      <th></th>\n",
       "      <th></th>\n",
       "      <th></th>\n",
       "    </tr>\n",
       "  </thead>\n",
       "  <tbody>\n",
       "    <tr>\n",
       "      <th>6</th>\n",
       "      <td>3</td>\n",
       "      <td>male</td>\n",
       "      <td>0</td>\n",
       "      <td>0</td>\n",
       "      <td>8.4583</td>\n",
       "      <td>Q</td>\n",
       "      <td>0</td>\n",
       "      <td>3</td>\n",
       "      <td>6</td>\n",
       "      <td>8.4583</td>\n",
       "      <td>8.4583</td>\n",
       "      <td>8.4583</td>\n",
       "      <td>1</td>\n",
       "    </tr>\n",
       "    <tr>\n",
       "      <th>18</th>\n",
       "      <td>2</td>\n",
       "      <td>male</td>\n",
       "      <td>0</td>\n",
       "      <td>0</td>\n",
       "      <td>13.0000</td>\n",
       "      <td>S</td>\n",
       "      <td>0</td>\n",
       "      <td>2</td>\n",
       "      <td>6</td>\n",
       "      <td>13.0000</td>\n",
       "      <td>13.0000</td>\n",
       "      <td>13.0000</td>\n",
       "      <td>1</td>\n",
       "    </tr>\n",
       "    <tr>\n",
       "      <th>20</th>\n",
       "      <td>3</td>\n",
       "      <td>female</td>\n",
       "      <td>0</td>\n",
       "      <td>0</td>\n",
       "      <td>7.2250</td>\n",
       "      <td>C</td>\n",
       "      <td>0</td>\n",
       "      <td>2</td>\n",
       "      <td>4</td>\n",
       "      <td>7.2250</td>\n",
       "      <td>7.2250</td>\n",
       "      <td>7.2250</td>\n",
       "      <td>1</td>\n",
       "    </tr>\n",
       "    <tr>\n",
       "      <th>27</th>\n",
       "      <td>3</td>\n",
       "      <td>male</td>\n",
       "      <td>0</td>\n",
       "      <td>0</td>\n",
       "      <td>7.2250</td>\n",
       "      <td>C</td>\n",
       "      <td>0</td>\n",
       "      <td>2</td>\n",
       "      <td>4</td>\n",
       "      <td>7.2250</td>\n",
       "      <td>7.2250</td>\n",
       "      <td>7.2250</td>\n",
       "      <td>1</td>\n",
       "    </tr>\n",
       "    <tr>\n",
       "      <th>29</th>\n",
       "      <td>3</td>\n",
       "      <td>female</td>\n",
       "      <td>0</td>\n",
       "      <td>0</td>\n",
       "      <td>7.8792</td>\n",
       "      <td>Q</td>\n",
       "      <td>0</td>\n",
       "      <td>3</td>\n",
       "      <td>6</td>\n",
       "      <td>7.8792</td>\n",
       "      <td>7.8792</td>\n",
       "      <td>7.8792</td>\n",
       "      <td>1</td>\n",
       "    </tr>\n",
       "  </tbody>\n",
       "</table>\n",
       "</div>"
      ],
      "text/plain": [
       "            Pclass     Sex  SibSp  Parch     Fare Embarked cabin_class  \\\n",
       "PassengerId                                                              \n",
       "6                3    male      0      0   8.4583        Q           0   \n",
       "18               2    male      0      0  13.0000        S           0   \n",
       "20               3  female      0      0   7.2250        C           0   \n",
       "27               3    male      0      0   7.2250        C           0   \n",
       "29               3  female      0      0   7.8792        Q           0   \n",
       "\n",
       "            Ticket_first_symbol Ticket_length  Fare/Parch  Fare/SibSp  \\\n",
       "PassengerId                                                             \n",
       "6                             3             6      8.4583      8.4583   \n",
       "18                            2             6     13.0000     13.0000   \n",
       "20                            2             4      7.2250      7.2250   \n",
       "27                            2             4      7.2250      7.2250   \n",
       "29                            3             6      7.8792      7.8792   \n",
       "\n",
       "             Fare/Parch+SibSp  Family_members  \n",
       "PassengerId                                    \n",
       "6                      8.4583               1  \n",
       "18                    13.0000               1  \n",
       "20                     7.2250               1  \n",
       "27                     7.2250               1  \n",
       "29                     7.8792               1  "
      ]
     },
     "execution_count": 213,
     "metadata": {},
     "output_type": "execute_result"
    }
   ],
   "source": [
    "new_test.head()"
   ]
  },
  {
   "cell_type": "code",
   "execution_count": 2,
   "metadata": {},
   "outputs": [
    {
     "data": {
      "text/plain": [
       "0.6175478065241845"
      ]
     },
     "execution_count": 2,
     "metadata": {},
     "output_type": "execute_result"
    }
   ],
   "source": [
    "549/(549+340)"
   ]
  },
  {
   "cell_type": "markdown",
   "metadata": {},
   "source": [
    "dataset is a little imbalanced, but I won't balance it this time"
   ]
  },
  {
   "cell_type": "code",
   "execution_count": 214,
   "metadata": {},
   "outputs": [
    {
     "data": {
      "text/plain": [
       "array([   1,    2,    3, ..., 1305, 1308, 1309], dtype=int64)"
      ]
     },
     "execution_count": 214,
     "metadata": {},
     "output_type": "execute_result"
    }
   ],
   "source": [
    "index= np.append(new_train.index, new_test.index, axis=0)\n",
    "index"
   ]
  },
  {
   "cell_type": "code",
   "execution_count": 215,
   "metadata": {},
   "outputs": [],
   "source": [
    "from sklearn.compose import make_column_transformer\n",
    "from sklearn.preprocessing import StandardScaler, OneHotEncoder"
   ]
  },
  {
   "cell_type": "code",
   "execution_count": 216,
   "metadata": {},
   "outputs": [],
   "source": [
    "categorical_columns= ['Pclass', 'Sex', 'Embarked', 'cabin_class', 'Ticket_first_symbol', 'Ticket_length']\n",
    "numerical_columns= ['SibSp','Parch','Fare','Fare/Parch','Fare/SibSp', 'Fare/Parch+SibSp', 'Family_members']"
   ]
  },
  {
   "cell_type": "code",
   "execution_count": 217,
   "metadata": {},
   "outputs": [],
   "source": [
    "preprocessor = make_column_transformer(\n",
    "    (StandardScaler(), numerical_columns),\n",
    "    (OneHotEncoder(), categorical_columns),\n",
    ")"
   ]
  },
  {
   "cell_type": "code",
   "execution_count": 218,
   "metadata": {},
   "outputs": [],
   "source": [
    "new_y= new_train.pop('Age')"
   ]
  },
  {
   "cell_type": "code",
   "execution_count": 219,
   "metadata": {},
   "outputs": [],
   "source": [
    "new_X = preprocessor.fit_transform(new_train)\n",
    "new_test = preprocessor.transform(new_test)"
   ]
  },
  {
   "cell_type": "markdown",
   "metadata": {},
   "source": [
    "# 3 -----------Filling NAs for Age-----------------"
   ]
  },
  {
   "cell_type": "markdown",
   "metadata": {},
   "source": [
    "There isn't any hyperparameter optimisation, maybe I'll do it later"
   ]
  },
  {
   "cell_type": "markdown",
   "metadata": {},
   "source": [
    "## 3.1 XGBoost"
   ]
  },
  {
   "cell_type": "code",
   "execution_count": 220,
   "metadata": {},
   "outputs": [],
   "source": [
    "from xgboost import XGBRegressor\n",
    "from sklearn.metrics import mean_absolute_percentage_error, mean_absolute_error\n",
    "from sklearn.model_selection import cross_val_score, RepeatedKFold, train_test_split"
   ]
  },
  {
   "cell_type": "code",
   "execution_count": 221,
   "metadata": {},
   "outputs": [],
   "source": [
    "X_train, X_valid, y_train, y_valid= train_test_split(new_X, new_y, train_size=0.9, random_state= 42)"
   ]
  },
  {
   "cell_type": "code",
   "execution_count": 222,
   "metadata": {},
   "outputs": [
    {
     "data": {
      "text/plain": [
       "XGBRegressor(base_score=0.5, booster='gbtree', colsample_bylevel=1,\n",
       "             colsample_bynode=1, colsample_bytree=1, enable_categorical=False,\n",
       "             gamma=0, gpu_id=-1, importance_type=None,\n",
       "             interaction_constraints='', learning_rate=0.300000012,\n",
       "             max_delta_step=0, max_depth=6, min_child_weight=1, missing=nan,\n",
       "             monotone_constraints='()', n_estimators=100, n_jobs=12,\n",
       "             num_parallel_tree=1, predictor='auto', random_state=0, reg_alpha=0,\n",
       "             reg_lambda=1, scale_pos_weight=1, subsample=1, tree_method='exact',\n",
       "             validate_parameters=1, verbosity=None)"
      ]
     },
     "execution_count": 222,
     "metadata": {},
     "output_type": "execute_result"
    }
   ],
   "source": [
    "model1 = XGBRegressor()\n",
    "model1.fit(X_train, y_train)"
   ]
  },
  {
   "cell_type": "code",
   "execution_count": 223,
   "metadata": {},
   "outputs": [
    {
     "name": "stdout",
     "output_type": "stream",
     "text": [
      "Mean MAE: 10.378 (0.432)\n"
     ]
    }
   ],
   "source": [
    "cv = RepeatedKFold(n_splits= 5, n_repeats= 3, random_state= 42)\n",
    "# evaluate model\n",
    "scores = cross_val_score(model1, new_X, new_y, scoring='neg_mean_absolute_error', cv=cv, n_jobs=-1)\n",
    "# force scores to be positive\n",
    "scores = np.absolute(scores)\n",
    "print('Mean MAE: %.3f (%.3f)' % (scores.mean(), scores.std()) )"
   ]
  },
  {
   "cell_type": "code",
   "execution_count": 224,
   "metadata": {},
   "outputs": [
    {
     "data": {
      "text/plain": [
       "0.5746467197916638"
      ]
     },
     "execution_count": 224,
     "metadata": {},
     "output_type": "execute_result"
    }
   ],
   "source": [
    "preds1= model1.predict(X_valid)\n",
    "mean_absolute_percentage_error(preds1, y_valid)"
   ]
  },
  {
   "cell_type": "code",
   "execution_count": 225,
   "metadata": {},
   "outputs": [
    {
     "data": {
      "text/plain": [
       "11.918125728766123"
      ]
     },
     "execution_count": 225,
     "metadata": {},
     "output_type": "execute_result"
    }
   ],
   "source": [
    "mean_absolute_error(preds1, y_valid)"
   ]
  },
  {
   "cell_type": "markdown",
   "metadata": {},
   "source": [
    "## 3.2 Sklearn"
   ]
  },
  {
   "cell_type": "code",
   "execution_count": 226,
   "metadata": {},
   "outputs": [],
   "source": [
    "from sklearn.ensemble import RandomForestRegressor"
   ]
  },
  {
   "cell_type": "code",
   "execution_count": 227,
   "metadata": {},
   "outputs": [
    {
     "data": {
      "text/plain": [
       "RandomForestRegressor()"
      ]
     },
     "execution_count": 227,
     "metadata": {},
     "output_type": "execute_result"
    }
   ],
   "source": [
    "model2= RandomForestRegressor()\n",
    "model2.fit(X_train, y_train)"
   ]
  },
  {
   "cell_type": "code",
   "execution_count": 228,
   "metadata": {},
   "outputs": [
    {
     "data": {
      "text/plain": [
       "10.856068304254498"
      ]
     },
     "execution_count": 228,
     "metadata": {},
     "output_type": "execute_result"
    }
   ],
   "source": [
    "preds2= model2.predict(X_valid)\n",
    "mean_absolute_error(preds2, y_valid)"
   ]
  },
  {
   "cell_type": "code",
   "execution_count": 229,
   "metadata": {},
   "outputs": [
    {
     "data": {
      "text/plain": [
       "0.4328238250120557"
      ]
     },
     "execution_count": 229,
     "metadata": {},
     "output_type": "execute_result"
    }
   ],
   "source": [
    "mean_absolute_percentage_error(preds2, y_valid)"
   ]
  },
  {
   "cell_type": "code",
   "execution_count": 230,
   "metadata": {},
   "outputs": [
    {
     "data": {
      "text/plain": [
       "0.4648809607548232"
      ]
     },
     "execution_count": 230,
     "metadata": {},
     "output_type": "execute_result"
    }
   ],
   "source": [
    "preds= (preds1+ preds2)/2\n",
    "mean_absolute_percentage_error(preds, y_valid)"
   ]
  },
  {
   "cell_type": "code",
   "execution_count": 231,
   "metadata": {},
   "outputs": [],
   "source": [
    "# np.savez('age_train',inputs= x_train, targets= y_train)\n",
    "# np.savez('age_test',inputs= new_test)"
   ]
  },
  {
   "cell_type": "code",
   "execution_count": 232,
   "metadata": {},
   "outputs": [],
   "source": [
    "from sklearn.linear_model import LinearRegression"
   ]
  },
  {
   "cell_type": "code",
   "execution_count": 233,
   "metadata": {},
   "outputs": [
    {
     "data": {
      "text/plain": [
       "0.4013414177010102"
      ]
     },
     "execution_count": 233,
     "metadata": {},
     "output_type": "execute_result"
    }
   ],
   "source": [
    "model3 = LinearRegression()\n",
    "model3.fit(X_train, y_train)\n",
    "preds3 = model3.predict(X_valid)\n",
    "mean_absolute_percentage_error(preds3, y_valid)"
   ]
  },
  {
   "cell_type": "code",
   "execution_count": 234,
   "metadata": {},
   "outputs": [
    {
     "data": {
      "text/plain": [
       "0.40422328368822996"
      ]
     },
     "execution_count": 234,
     "metadata": {},
     "output_type": "execute_result"
    }
   ],
   "source": [
    "preds= (preds1 + preds2 + preds3)/ 3\n",
    "mean_absolute_percentage_error(preds, y_valid)"
   ]
  },
  {
   "cell_type": "markdown",
   "metadata": {},
   "source": [
    "## 3.3 LightGBM"
   ]
  },
  {
   "cell_type": "code",
   "execution_count": 235,
   "metadata": {},
   "outputs": [],
   "source": [
    "from lightgbm import LGBMRegressor"
   ]
  },
  {
   "cell_type": "code",
   "execution_count": 236,
   "metadata": {},
   "outputs": [
    {
     "data": {
      "text/plain": [
       "0.4396515012622314"
      ]
     },
     "execution_count": 236,
     "metadata": {},
     "output_type": "execute_result"
    }
   ],
   "source": [
    "model4= LGBMRegressor()\n",
    "model4.fit(X_train, y_train)\n",
    "preds4= model4.predict(X_valid)\n",
    "mean_absolute_percentage_error(preds4, y_valid)"
   ]
  },
  {
   "cell_type": "code",
   "execution_count": 237,
   "metadata": {},
   "outputs": [
    {
     "data": {
      "text/plain": [
       "0.4075844563870255"
      ]
     },
     "execution_count": 237,
     "metadata": {},
     "output_type": "execute_result"
    }
   ],
   "source": [
    "preds= (preds1 + preds2 + preds3+ preds4)/ 4\n",
    "mean_absolute_percentage_error(preds, y_valid)"
   ]
  },
  {
   "cell_type": "markdown",
   "metadata": {},
   "source": [
    "## 3.4 CatBoost"
   ]
  },
  {
   "cell_type": "code",
   "execution_count": 238,
   "metadata": {},
   "outputs": [],
   "source": [
    "from catboost import CatBoostRegressor"
   ]
  },
  {
   "cell_type": "code",
   "execution_count": 239,
   "metadata": {},
   "outputs": [
    {
     "data": {
      "text/plain": [
       "0.398752715311708"
      ]
     },
     "execution_count": 239,
     "metadata": {},
     "output_type": "execute_result"
    }
   ],
   "source": [
    "model5= CatBoostRegressor(verbose=0)\n",
    "model5.fit(X_train, y_train)\n",
    "preds5= model5.predict(X_valid)\n",
    "mean_absolute_percentage_error(preds5, y_valid)"
   ]
  },
  {
   "cell_type": "code",
   "execution_count": 240,
   "metadata": {},
   "outputs": [
    {
     "data": {
      "text/plain": [
       "0.404122936875402"
      ]
     },
     "execution_count": 240,
     "metadata": {},
     "output_type": "execute_result"
    }
   ],
   "source": [
    "preds= (preds1 + preds2 + preds3+ preds4+ preds5)/ 5\n",
    "mean_absolute_percentage_error(preds, y_valid)"
   ]
  },
  {
   "cell_type": "markdown",
   "metadata": {},
   "source": [
    "## 3.5 Ensemble"
   ]
  },
  {
   "cell_type": "code",
   "execution_count": 241,
   "metadata": {},
   "outputs": [
    {
     "data": {
      "text/plain": [
       "array([30.48853268, 33.73950204, 26.39994731, 27.1608054 , 22.61685012])"
      ]
     },
     "execution_count": 241,
     "metadata": {},
     "output_type": "execute_result"
    }
   ],
   "source": [
    "preds1= model1.predict(new_test)\n",
    "preds2= model2.predict(new_test)\n",
    "preds3= model3.predict(new_test)\n",
    "preds4= model4.predict(new_test)\n",
    "preds5= model5.predict(new_test)\n",
    "\n",
    "results= (preds1 + preds2 + preds3+ preds4+ preds5)/ 5\n",
    "results[0:5]"
   ]
  },
  {
   "cell_type": "code",
   "execution_count": 242,
   "metadata": {},
   "outputs": [
    {
     "data": {
      "text/plain": [
       "(263,)"
      ]
     },
     "execution_count": 242,
     "metadata": {},
     "output_type": "execute_result"
    }
   ],
   "source": [
    "results.shape"
   ]
  },
  {
   "cell_type": "code",
   "execution_count": 243,
   "metadata": {},
   "outputs": [],
   "source": [
    "results= results.reshape(263,1)"
   ]
  },
  {
   "cell_type": "code",
   "execution_count": 244,
   "metadata": {},
   "outputs": [],
   "source": [
    "final_without_age= np.append(new_test, results, axis=1)"
   ]
  },
  {
   "cell_type": "code",
   "execution_count": 245,
   "metadata": {},
   "outputs": [
    {
     "data": {
      "text/plain": [
       "array([[-0.552242  , -0.5017629 , -0.54457098, ...,  0.        ,\n",
       "         0.        , 30.48853268],\n",
       "       [-0.552242  , -0.5017629 , -0.44838948, ...,  0.        ,\n",
       "         0.        , 33.73950204],\n",
       "       [-0.552242  , -0.5017629 , -0.57068909, ...,  0.        ,\n",
       "         0.        , 26.39994731],\n",
       "       ...,\n",
       "       [-0.552242  , -0.5017629 , -0.55321772, ...,  0.        ,\n",
       "         1.        , 27.42279711],\n",
       "       [-0.552242  , -0.5017629 , -0.55321772, ...,  0.        ,\n",
       "         0.        , 29.21797391],\n",
       "       [ 0.54384289,  0.68878361, -0.25020481, ...,  0.        ,\n",
       "         0.        , 17.93488098]])"
      ]
     },
     "execution_count": 245,
     "metadata": {},
     "output_type": "execute_result"
    }
   ],
   "source": [
    "final_without_age"
   ]
  },
  {
   "cell_type": "markdown",
   "metadata": {},
   "source": [
    "## 3.6 Join predictions with columns having Age"
   ]
  },
  {
   "cell_type": "code",
   "execution_count": 246,
   "metadata": {},
   "outputs": [
    {
     "data": {
      "text/plain": [
       "(1044, 1)"
      ]
     },
     "execution_count": 246,
     "metadata": {},
     "output_type": "execute_result"
    }
   ],
   "source": [
    "y_with_age= np.array(new_y)\n",
    "y_with_age= y_with_age.reshape(1044,1)\n",
    "y_with_age.shape"
   ]
  },
  {
   "cell_type": "code",
   "execution_count": 247,
   "metadata": {},
   "outputs": [
    {
     "data": {
      "text/plain": [
       "array([[ 0.54384289, -0.5017629 , -0.57015966, ...,  0.        ,\n",
       "         1.        , 22.        ],\n",
       "       [ 0.54384289, -0.5017629 ,  0.7859006 , ...,  1.        ,\n",
       "         0.        , 38.        ],\n",
       "       [-0.552242  , -0.5017629 , -0.5558649 , ...,  0.        ,\n",
       "         1.        , 26.        ],\n",
       "       ...,\n",
       "       [-0.552242  , -0.5017629 , -0.55904151, ...,  0.        ,\n",
       "         0.        , 28.        ],\n",
       "       [-0.552242  , -0.5017629 ,  1.58252535, ...,  1.        ,\n",
       "         0.        , 39.        ],\n",
       "       [-0.552242  , -0.5017629 , -0.57015966, ...,  0.        ,\n",
       "         1.        , 38.        ]])"
      ]
     },
     "execution_count": 247,
     "metadata": {},
     "output_type": "execute_result"
    }
   ],
   "source": [
    "final_with_age= np.append(new_X, y_with_age, axis=1)\n",
    "final_with_age"
   ]
  },
  {
   "cell_type": "code",
   "execution_count": 248,
   "metadata": {},
   "outputs": [],
   "source": [
    "index= index.reshape(index.shape[0],1)"
   ]
  },
  {
   "cell_type": "code",
   "execution_count": 249,
   "metadata": {},
   "outputs": [],
   "source": [
    "final_train= np.append(final_with_age, final_without_age, axis=0)\n",
    "final_train= np.append(index, final_train, axis=1)"
   ]
  },
  {
   "cell_type": "code",
   "execution_count": 250,
   "metadata": {},
   "outputs": [
    {
     "data": {
      "text/plain": [
       "(1307, 37)"
      ]
     },
     "execution_count": 250,
     "metadata": {},
     "output_type": "execute_result"
    }
   ],
   "source": [
    "final_train.shape"
   ]
  },
  {
   "cell_type": "code",
   "execution_count": 251,
   "metadata": {},
   "outputs": [
    {
     "data": {
      "text/plain": [
       "0.0    549\n",
       "NaN    418\n",
       "1.0    340\n",
       "Name: Survived, dtype: int64"
      ]
     },
     "execution_count": 251,
     "metadata": {},
     "output_type": "execute_result"
    }
   ],
   "source": [
    "y.value_counts(dropna= False)"
   ]
  },
  {
   "cell_type": "code",
   "execution_count": null,
   "metadata": {},
   "outputs": [],
   "source": []
  },
  {
   "cell_type": "code",
   "execution_count": 252,
   "metadata": {},
   "outputs": [],
   "source": [
    "final_y = np.array(y)\n",
    "final_y= final_y.reshape(1307,1)"
   ]
  },
  {
   "cell_type": "code",
   "execution_count": 253,
   "metadata": {},
   "outputs": [
    {
     "data": {
      "text/plain": [
       "array([[ 1.00000000e+00,  5.43842886e-01, -5.01762895e-01, ...,\n",
       "         1.00000000e+00,  2.20000000e+01,  0.00000000e+00],\n",
       "       [ 2.00000000e+00,  5.43842886e-01, -5.01762895e-01, ...,\n",
       "         0.00000000e+00,  3.80000000e+01,  1.00000000e+00],\n",
       "       [ 3.00000000e+00, -5.52242004e-01, -5.01762895e-01, ...,\n",
       "         1.00000000e+00,  2.60000000e+01,  1.00000000e+00],\n",
       "       ...,\n",
       "       [ 1.30500000e+03, -5.52242004e-01, -5.01762895e-01, ...,\n",
       "         1.00000000e+00,  2.74227971e+01,             nan],\n",
       "       [ 1.30800000e+03, -5.52242004e-01, -5.01762895e-01, ...,\n",
       "         0.00000000e+00,  2.92179739e+01,             nan],\n",
       "       [ 1.30900000e+03,  5.43842886e-01,  6.88783611e-01, ...,\n",
       "         0.00000000e+00,  1.79348810e+01,             nan]])"
      ]
     },
     "execution_count": 253,
     "metadata": {},
     "output_type": "execute_result"
    }
   ],
   "source": [
    "final= np.append(final_train, final_y, axis=1)\n",
    "final"
   ]
  },
  {
   "cell_type": "code",
   "execution_count": 254,
   "metadata": {},
   "outputs": [],
   "source": [
    "final = final[np.argsort(final[:, 0])]\n",
    "final = final[:, 1:]"
   ]
  },
  {
   "cell_type": "code",
   "execution_count": 255,
   "metadata": {},
   "outputs": [
    {
     "data": {
      "text/plain": [
       "array([[ 0.54384289, -0.5017629 , -0.57015966, ...,  1.        ,\n",
       "        22.        ,  0.        ],\n",
       "       [ 0.54384289, -0.5017629 ,  0.7859006 , ...,  0.        ,\n",
       "        38.        ,  1.        ],\n",
       "       [-0.552242  , -0.5017629 , -0.5558649 , ...,  1.        ,\n",
       "        26.        ,  1.        ],\n",
       "       ...,\n",
       "       [-0.552242  , -0.5017629 , -0.57015966, ...,  1.        ,\n",
       "        38.        ,         nan],\n",
       "       [-0.552242  , -0.5017629 , -0.55321772, ...,  0.        ,\n",
       "        29.21797391,         nan],\n",
       "       [ 0.54384289,  0.68878361, -0.25020481, ...,  0.        ,\n",
       "        17.93488098,         nan]])"
      ]
     },
     "execution_count": 255,
     "metadata": {},
     "output_type": "execute_result"
    }
   ],
   "source": [
    "final"
   ]
  },
  {
   "cell_type": "code",
   "execution_count": 256,
   "metadata": {},
   "outputs": [],
   "source": [
    "test_indices= np.where(np.isnan(final[:,-1]))\n",
    "train_indices= np.where(~np.isnan(final[:,-1]))"
   ]
  },
  {
   "cell_type": "code",
   "execution_count": 257,
   "metadata": {},
   "outputs": [],
   "source": [
    "test= final[test_indices]\n",
    "train= final[train_indices]"
   ]
  },
  {
   "cell_type": "code",
   "execution_count": 258,
   "metadata": {},
   "outputs": [
    {
     "data": {
      "text/plain": [
       "array([[-0.552242  , -0.5017629 , -0.5578937 , ...,  0.        ,\n",
       "         0.        , 34.        ],\n",
       "       [ 0.54384289, -0.5017629 , -0.57545402, ...,  0.        ,\n",
       "         0.        , 47.        ],\n",
       "       [-0.552242  , -0.5017629 , -0.51853969, ...,  0.        ,\n",
       "         0.        , 62.        ],\n",
       "       ...,\n",
       "       [-0.552242  , -0.5017629 , -0.57015966, ...,  0.        ,\n",
       "         1.        , 38.        ],\n",
       "       [-0.552242  , -0.5017629 , -0.55321772, ...,  0.        ,\n",
       "         0.        , 29.21797391],\n",
       "       [ 0.54384289,  0.68878361, -0.25020481, ...,  0.        ,\n",
       "         0.        , 17.93488098]])"
      ]
     },
     "execution_count": 258,
     "metadata": {},
     "output_type": "execute_result"
    }
   ],
   "source": [
    "test= test[:,:-1]\n",
    "test"
   ]
  },
  {
   "cell_type": "code",
   "execution_count": 259,
   "metadata": {},
   "outputs": [],
   "source": [
    "np.savez('data_preprocessed', train= train, test= test)"
   ]
  }
 ],
 "metadata": {
  "interpreter": {
   "hash": "22301ee59e83c289b9ded53e476fe390da709433ba8e062af041da22250ca4d2"
  },
  "kernelspec": {
   "display_name": "Python 3.8.12 64-bit ('Env1': conda)",
   "language": "python",
   "name": "python3"
  },
  "language_info": {
   "codemirror_mode": {
    "name": "ipython",
    "version": 3
   },
   "file_extension": ".py",
   "mimetype": "text/x-python",
   "name": "python",
   "nbconvert_exporter": "python",
   "pygments_lexer": "ipython3",
   "version": "3.8.12"
  },
  "orig_nbformat": 4
 },
 "nbformat": 4,
 "nbformat_minor": 2
}
